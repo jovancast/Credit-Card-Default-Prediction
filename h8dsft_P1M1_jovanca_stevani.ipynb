{
 "cells": [
  {
   "cell_type": "markdown",
   "metadata": {},
   "source": [
    "# MILESTONE 1"
   ]
  },
  {
   "cell_type": "markdown",
   "metadata": {},
   "source": [
    "#### Query yang digunakan untuk mendapatkan dataset:\n",
    "\n",
    "```\n",
    "SELECT limit_balance, sex, education_level, marital_status, age,\n",
    "      pay_0, pay_2, pay_3, pay_4, pay_5, pay_6,\n",
    "      bill_amt_1, bill_amt_2, bill_amt_3, bill_amt_4, bill_amt_5, bill_amt_6,\n",
    "      pay_amt_1, pay_amt_2, pay_amt_3, pay_amt_4, pay_amt_5, pay_amt_6,\n",
    "      default_payment_next_month\n",
    "\n",
    "FROM `bigquery-public-data.ml_datasets.credit_card_default` LIMIT 3998\n",
    "```"
   ]
  },
  {
   "cell_type": "markdown",
   "metadata": {},
   "source": [
    "## i. Perkenalan\n",
    "\n",
    "Nama : Jovanca Stevani Tanjung\n",
    "\n",
    "Batch 002 HCK\n",
    "\n",
    "---\n",
    "\n",
    "Objective:\n",
    "- be able to get the dataset from Google BigQuery\n",
    "- be able to understand supervised learning concept\n",
    "- be able to implementate the data using supervised learning\n",
    "- be able to do model evaluation"
   ]
  },
  {
   "cell_type": "markdown",
   "metadata": {},
   "source": [
    "## ii. Import Libraries"
   ]
  },
  {
   "cell_type": "markdown",
   "metadata": {},
   "source": [
    "Importing libraries that's going to be used in this project."
   ]
  },
  {
   "cell_type": "code",
   "execution_count": 1,
   "metadata": {},
   "outputs": [],
   "source": [
    "import pandas as pd\n",
    "import numpy as np\n",
    "import seaborn as sns\n",
    "import matplotlib.pyplot as plt\n",
    "\n",
    "from sklearn.model_selection import train_test_split, GridSearchCV, cross_val_score\n",
    "from statsmodels.stats.outliers_influence import variance_inflation_factor\n",
    "from sklearn.preprocessing import MinMaxScaler\n",
    "from sklearn.linear_model import LogisticRegression\n",
    "from sklearn.svm import SVC\n",
    "from sklearn.tree import DecisionTreeClassifier\n",
    "from sklearn.ensemble import RandomForestClassifier,AdaBoostClassifier\n",
    "from sklearn.neighbors import KNeighborsClassifier\n",
    "from sklearn.naive_bayes import GaussianNB\n",
    "from sklearn.metrics import classification_report,ConfusionMatrixDisplay,confusion_matrix\n",
    "from feature_engine.outliers import Winsorizer\n",
    "\n",
    "from time import time\n",
    "%matplotlib inline\n",
    "\n",
    "import warnings\n",
    "warnings.filterwarnings('ignore')"
   ]
  },
  {
   "cell_type": "markdown",
   "metadata": {},
   "source": [
    "## iii. Data Loading"
   ]
  },
  {
   "cell_type": "markdown",
   "metadata": {},
   "source": [
    "Load the dataset from local path and display the data"
   ]
  },
  {
   "cell_type": "code",
   "execution_count": 2,
   "metadata": {},
   "outputs": [
    {
     "data": {
      "text/html": [
       "<div>\n",
       "<style scoped>\n",
       "    .dataframe tbody tr th:only-of-type {\n",
       "        vertical-align: middle;\n",
       "    }\n",
       "\n",
       "    .dataframe tbody tr th {\n",
       "        vertical-align: top;\n",
       "    }\n",
       "\n",
       "    .dataframe thead th {\n",
       "        text-align: right;\n",
       "    }\n",
       "</style>\n",
       "<table border=\"1\" class=\"dataframe\">\n",
       "  <thead>\n",
       "    <tr style=\"text-align: right;\">\n",
       "      <th></th>\n",
       "      <th>limit_balance</th>\n",
       "      <th>sex</th>\n",
       "      <th>education_level</th>\n",
       "      <th>marital_status</th>\n",
       "      <th>age</th>\n",
       "      <th>pay_0</th>\n",
       "      <th>pay_2</th>\n",
       "      <th>pay_3</th>\n",
       "      <th>pay_4</th>\n",
       "      <th>pay_5</th>\n",
       "      <th>...</th>\n",
       "      <th>bill_amt_4</th>\n",
       "      <th>bill_amt_5</th>\n",
       "      <th>bill_amt_6</th>\n",
       "      <th>pay_amt_1</th>\n",
       "      <th>pay_amt_2</th>\n",
       "      <th>pay_amt_3</th>\n",
       "      <th>pay_amt_4</th>\n",
       "      <th>pay_amt_5</th>\n",
       "      <th>pay_amt_6</th>\n",
       "      <th>default_payment_next_month</th>\n",
       "    </tr>\n",
       "  </thead>\n",
       "  <tbody>\n",
       "    <tr>\n",
       "      <th>0</th>\n",
       "      <td>50000</td>\n",
       "      <td>1</td>\n",
       "      <td>3</td>\n",
       "      <td>0</td>\n",
       "      <td>50</td>\n",
       "      <td>0</td>\n",
       "      <td>0</td>\n",
       "      <td>0</td>\n",
       "      <td>-1</td>\n",
       "      <td>-1</td>\n",
       "      <td>...</td>\n",
       "      <td>3400</td>\n",
       "      <td>2769</td>\n",
       "      <td>0</td>\n",
       "      <td>2266</td>\n",
       "      <td>0</td>\n",
       "      <td>3400</td>\n",
       "      <td>2769</td>\n",
       "      <td>1700</td>\n",
       "      <td>0</td>\n",
       "      <td>0</td>\n",
       "    </tr>\n",
       "    <tr>\n",
       "      <th>1</th>\n",
       "      <td>200000</td>\n",
       "      <td>2</td>\n",
       "      <td>3</td>\n",
       "      <td>0</td>\n",
       "      <td>45</td>\n",
       "      <td>-2</td>\n",
       "      <td>-2</td>\n",
       "      <td>-2</td>\n",
       "      <td>-2</td>\n",
       "      <td>-2</td>\n",
       "      <td>...</td>\n",
       "      <td>399</td>\n",
       "      <td>1396</td>\n",
       "      <td>0</td>\n",
       "      <td>2430</td>\n",
       "      <td>0</td>\n",
       "      <td>399</td>\n",
       "      <td>1396</td>\n",
       "      <td>0</td>\n",
       "      <td>0</td>\n",
       "      <td>0</td>\n",
       "    </tr>\n",
       "    <tr>\n",
       "      <th>2</th>\n",
       "      <td>130000</td>\n",
       "      <td>1</td>\n",
       "      <td>1</td>\n",
       "      <td>1</td>\n",
       "      <td>45</td>\n",
       "      <td>0</td>\n",
       "      <td>0</td>\n",
       "      <td>0</td>\n",
       "      <td>0</td>\n",
       "      <td>0</td>\n",
       "      <td>...</td>\n",
       "      <td>62377</td>\n",
       "      <td>63832</td>\n",
       "      <td>65099</td>\n",
       "      <td>2886</td>\n",
       "      <td>2908</td>\n",
       "      <td>2129</td>\n",
       "      <td>2354</td>\n",
       "      <td>2366</td>\n",
       "      <td>2291</td>\n",
       "      <td>0</td>\n",
       "    </tr>\n",
       "    <tr>\n",
       "      <th>3</th>\n",
       "      <td>230000</td>\n",
       "      <td>1</td>\n",
       "      <td>2</td>\n",
       "      <td>1</td>\n",
       "      <td>41</td>\n",
       "      <td>0</td>\n",
       "      <td>0</td>\n",
       "      <td>0</td>\n",
       "      <td>0</td>\n",
       "      <td>0</td>\n",
       "      <td>...</td>\n",
       "      <td>216260</td>\n",
       "      <td>215968</td>\n",
       "      <td>174195</td>\n",
       "      <td>9405</td>\n",
       "      <td>7769</td>\n",
       "      <td>7757</td>\n",
       "      <td>8030</td>\n",
       "      <td>6549</td>\n",
       "      <td>5226</td>\n",
       "      <td>1</td>\n",
       "    </tr>\n",
       "    <tr>\n",
       "      <th>4</th>\n",
       "      <td>50000</td>\n",
       "      <td>1</td>\n",
       "      <td>2</td>\n",
       "      <td>1</td>\n",
       "      <td>42</td>\n",
       "      <td>0</td>\n",
       "      <td>0</td>\n",
       "      <td>0</td>\n",
       "      <td>0</td>\n",
       "      <td>0</td>\n",
       "      <td>...</td>\n",
       "      <td>31320</td>\n",
       "      <td>36227</td>\n",
       "      <td>35569</td>\n",
       "      <td>2007</td>\n",
       "      <td>2000</td>\n",
       "      <td>1500</td>\n",
       "      <td>5400</td>\n",
       "      <td>0</td>\n",
       "      <td>3000</td>\n",
       "      <td>0</td>\n",
       "    </tr>\n",
       "    <tr>\n",
       "      <th>...</th>\n",
       "      <td>...</td>\n",
       "      <td>...</td>\n",
       "      <td>...</td>\n",
       "      <td>...</td>\n",
       "      <td>...</td>\n",
       "      <td>...</td>\n",
       "      <td>...</td>\n",
       "      <td>...</td>\n",
       "      <td>...</td>\n",
       "      <td>...</td>\n",
       "      <td>...</td>\n",
       "      <td>...</td>\n",
       "      <td>...</td>\n",
       "      <td>...</td>\n",
       "      <td>...</td>\n",
       "      <td>...</td>\n",
       "      <td>...</td>\n",
       "      <td>...</td>\n",
       "      <td>...</td>\n",
       "      <td>...</td>\n",
       "      <td>...</td>\n",
       "    </tr>\n",
       "    <tr>\n",
       "      <th>2960</th>\n",
       "      <td>320000</td>\n",
       "      <td>1</td>\n",
       "      <td>2</td>\n",
       "      <td>1</td>\n",
       "      <td>41</td>\n",
       "      <td>1</td>\n",
       "      <td>-2</td>\n",
       "      <td>-2</td>\n",
       "      <td>-2</td>\n",
       "      <td>-2</td>\n",
       "      <td>...</td>\n",
       "      <td>0</td>\n",
       "      <td>700</td>\n",
       "      <td>860</td>\n",
       "      <td>0</td>\n",
       "      <td>0</td>\n",
       "      <td>0</td>\n",
       "      <td>700</td>\n",
       "      <td>860</td>\n",
       "      <td>2420</td>\n",
       "      <td>1</td>\n",
       "    </tr>\n",
       "    <tr>\n",
       "      <th>2961</th>\n",
       "      <td>20000</td>\n",
       "      <td>1</td>\n",
       "      <td>1</td>\n",
       "      <td>1</td>\n",
       "      <td>39</td>\n",
       "      <td>-1</td>\n",
       "      <td>-1</td>\n",
       "      <td>-1</td>\n",
       "      <td>-1</td>\n",
       "      <td>-1</td>\n",
       "      <td>...</td>\n",
       "      <td>630</td>\n",
       "      <td>664</td>\n",
       "      <td>598</td>\n",
       "      <td>700</td>\n",
       "      <td>600</td>\n",
       "      <td>700</td>\n",
       "      <td>700</td>\n",
       "      <td>600</td>\n",
       "      <td>1400</td>\n",
       "      <td>0</td>\n",
       "    </tr>\n",
       "    <tr>\n",
       "      <th>2962</th>\n",
       "      <td>20000</td>\n",
       "      <td>1</td>\n",
       "      <td>2</td>\n",
       "      <td>2</td>\n",
       "      <td>25</td>\n",
       "      <td>0</td>\n",
       "      <td>0</td>\n",
       "      <td>0</td>\n",
       "      <td>0</td>\n",
       "      <td>0</td>\n",
       "      <td>...</td>\n",
       "      <td>16600</td>\n",
       "      <td>17025</td>\n",
       "      <td>17381</td>\n",
       "      <td>1300</td>\n",
       "      <td>1300</td>\n",
       "      <td>1300</td>\n",
       "      <td>700</td>\n",
       "      <td>630</td>\n",
       "      <td>650</td>\n",
       "      <td>0</td>\n",
       "    </tr>\n",
       "    <tr>\n",
       "      <th>2963</th>\n",
       "      <td>50000</td>\n",
       "      <td>1</td>\n",
       "      <td>2</td>\n",
       "      <td>2</td>\n",
       "      <td>38</td>\n",
       "      <td>0</td>\n",
       "      <td>0</td>\n",
       "      <td>0</td>\n",
       "      <td>0</td>\n",
       "      <td>0</td>\n",
       "      <td>...</td>\n",
       "      <td>17833</td>\n",
       "      <td>18246</td>\n",
       "      <td>18642</td>\n",
       "      <td>1300</td>\n",
       "      <td>1600</td>\n",
       "      <td>650</td>\n",
       "      <td>700</td>\n",
       "      <td>700</td>\n",
       "      <td>700</td>\n",
       "      <td>0</td>\n",
       "    </tr>\n",
       "    <tr>\n",
       "      <th>2964</th>\n",
       "      <td>100000</td>\n",
       "      <td>2</td>\n",
       "      <td>1</td>\n",
       "      <td>2</td>\n",
       "      <td>28</td>\n",
       "      <td>0</td>\n",
       "      <td>0</td>\n",
       "      <td>0</td>\n",
       "      <td>2</td>\n",
       "      <td>0</td>\n",
       "      <td>...</td>\n",
       "      <td>10775</td>\n",
       "      <td>10998</td>\n",
       "      <td>12655</td>\n",
       "      <td>1300</td>\n",
       "      <td>3005</td>\n",
       "      <td>0</td>\n",
       "      <td>700</td>\n",
       "      <td>2000</td>\n",
       "      <td>1500</td>\n",
       "      <td>0</td>\n",
       "    </tr>\n",
       "  </tbody>\n",
       "</table>\n",
       "<p>2965 rows × 24 columns</p>\n",
       "</div>"
      ],
      "text/plain": [
       "      limit_balance  sex  education_level  marital_status  age  pay_0  pay_2  \\\n",
       "0             50000    1                3               0   50      0      0   \n",
       "1            200000    2                3               0   45     -2     -2   \n",
       "2            130000    1                1               1   45      0      0   \n",
       "3            230000    1                2               1   41      0      0   \n",
       "4             50000    1                2               1   42      0      0   \n",
       "...             ...  ...              ...             ...  ...    ...    ...   \n",
       "2960         320000    1                2               1   41      1     -2   \n",
       "2961          20000    1                1               1   39     -1     -1   \n",
       "2962          20000    1                2               2   25      0      0   \n",
       "2963          50000    1                2               2   38      0      0   \n",
       "2964         100000    2                1               2   28      0      0   \n",
       "\n",
       "      pay_3  pay_4  pay_5  ...  bill_amt_4  bill_amt_5  bill_amt_6  pay_amt_1  \\\n",
       "0         0     -1     -1  ...        3400        2769           0       2266   \n",
       "1        -2     -2     -2  ...         399        1396           0       2430   \n",
       "2         0      0      0  ...       62377       63832       65099       2886   \n",
       "3         0      0      0  ...      216260      215968      174195       9405   \n",
       "4         0      0      0  ...       31320       36227       35569       2007   \n",
       "...     ...    ...    ...  ...         ...         ...         ...        ...   \n",
       "2960     -2     -2     -2  ...           0         700         860          0   \n",
       "2961     -1     -1     -1  ...         630         664         598        700   \n",
       "2962      0      0      0  ...       16600       17025       17381       1300   \n",
       "2963      0      0      0  ...       17833       18246       18642       1300   \n",
       "2964      0      2      0  ...       10775       10998       12655       1300   \n",
       "\n",
       "      pay_amt_2  pay_amt_3  pay_amt_4  pay_amt_5  pay_amt_6  \\\n",
       "0             0       3400       2769       1700          0   \n",
       "1             0        399       1396          0          0   \n",
       "2          2908       2129       2354       2366       2291   \n",
       "3          7769       7757       8030       6549       5226   \n",
       "4          2000       1500       5400          0       3000   \n",
       "...         ...        ...        ...        ...        ...   \n",
       "2960          0          0        700        860       2420   \n",
       "2961        600        700        700        600       1400   \n",
       "2962       1300       1300        700        630        650   \n",
       "2963       1600        650        700        700        700   \n",
       "2964       3005          0        700       2000       1500   \n",
       "\n",
       "      default_payment_next_month  \n",
       "0                              0  \n",
       "1                              0  \n",
       "2                              0  \n",
       "3                              1  \n",
       "4                              0  \n",
       "...                          ...  \n",
       "2960                           1  \n",
       "2961                           0  \n",
       "2962                           0  \n",
       "2963                           0  \n",
       "2964                           0  \n",
       "\n",
       "[2965 rows x 24 columns]"
      ]
     },
     "execution_count": 2,
     "metadata": {},
     "output_type": "execute_result"
    }
   ],
   "source": [
    "df = pd.read_csv(\"D:\\Hacktiv8\\Phase 1\\Milestone 1\\p1---ftds-002-hck--m1-jovancast\\h8dsft_P1M1_jovanca_stevani.csv\")\n",
    "df"
   ]
  },
  {
   "cell_type": "code",
   "execution_count": 3,
   "metadata": {},
   "outputs": [
    {
     "data": {
      "text/html": [
       "<div>\n",
       "<style scoped>\n",
       "    .dataframe tbody tr th:only-of-type {\n",
       "        vertical-align: middle;\n",
       "    }\n",
       "\n",
       "    .dataframe tbody tr th {\n",
       "        vertical-align: top;\n",
       "    }\n",
       "\n",
       "    .dataframe thead th {\n",
       "        text-align: right;\n",
       "    }\n",
       "</style>\n",
       "<table border=\"1\" class=\"dataframe\">\n",
       "  <thead>\n",
       "    <tr style=\"text-align: right;\">\n",
       "      <th></th>\n",
       "      <th>limit_balance</th>\n",
       "      <th>sex</th>\n",
       "      <th>education_level</th>\n",
       "      <th>marital_status</th>\n",
       "      <th>age</th>\n",
       "      <th>pay_0</th>\n",
       "      <th>pay_2</th>\n",
       "      <th>pay_3</th>\n",
       "      <th>pay_4</th>\n",
       "      <th>pay_5</th>\n",
       "      <th>...</th>\n",
       "      <th>bill_amt_4</th>\n",
       "      <th>bill_amt_5</th>\n",
       "      <th>bill_amt_6</th>\n",
       "      <th>pay_amt_1</th>\n",
       "      <th>pay_amt_2</th>\n",
       "      <th>pay_amt_3</th>\n",
       "      <th>pay_amt_4</th>\n",
       "      <th>pay_amt_5</th>\n",
       "      <th>pay_amt_6</th>\n",
       "      <th>default_payment_next_month</th>\n",
       "    </tr>\n",
       "  </thead>\n",
       "  <tbody>\n",
       "    <tr>\n",
       "      <th>0</th>\n",
       "      <td>50000</td>\n",
       "      <td>1</td>\n",
       "      <td>3</td>\n",
       "      <td>0</td>\n",
       "      <td>50</td>\n",
       "      <td>0</td>\n",
       "      <td>0</td>\n",
       "      <td>0</td>\n",
       "      <td>-1</td>\n",
       "      <td>-1</td>\n",
       "      <td>...</td>\n",
       "      <td>3400</td>\n",
       "      <td>2769</td>\n",
       "      <td>0</td>\n",
       "      <td>2266</td>\n",
       "      <td>0</td>\n",
       "      <td>3400</td>\n",
       "      <td>2769</td>\n",
       "      <td>1700</td>\n",
       "      <td>0</td>\n",
       "      <td>0</td>\n",
       "    </tr>\n",
       "    <tr>\n",
       "      <th>1</th>\n",
       "      <td>200000</td>\n",
       "      <td>2</td>\n",
       "      <td>3</td>\n",
       "      <td>0</td>\n",
       "      <td>45</td>\n",
       "      <td>-2</td>\n",
       "      <td>-2</td>\n",
       "      <td>-2</td>\n",
       "      <td>-2</td>\n",
       "      <td>-2</td>\n",
       "      <td>...</td>\n",
       "      <td>399</td>\n",
       "      <td>1396</td>\n",
       "      <td>0</td>\n",
       "      <td>2430</td>\n",
       "      <td>0</td>\n",
       "      <td>399</td>\n",
       "      <td>1396</td>\n",
       "      <td>0</td>\n",
       "      <td>0</td>\n",
       "      <td>0</td>\n",
       "    </tr>\n",
       "    <tr>\n",
       "      <th>2</th>\n",
       "      <td>130000</td>\n",
       "      <td>1</td>\n",
       "      <td>1</td>\n",
       "      <td>1</td>\n",
       "      <td>45</td>\n",
       "      <td>0</td>\n",
       "      <td>0</td>\n",
       "      <td>0</td>\n",
       "      <td>0</td>\n",
       "      <td>0</td>\n",
       "      <td>...</td>\n",
       "      <td>62377</td>\n",
       "      <td>63832</td>\n",
       "      <td>65099</td>\n",
       "      <td>2886</td>\n",
       "      <td>2908</td>\n",
       "      <td>2129</td>\n",
       "      <td>2354</td>\n",
       "      <td>2366</td>\n",
       "      <td>2291</td>\n",
       "      <td>0</td>\n",
       "    </tr>\n",
       "    <tr>\n",
       "      <th>3</th>\n",
       "      <td>230000</td>\n",
       "      <td>1</td>\n",
       "      <td>2</td>\n",
       "      <td>1</td>\n",
       "      <td>41</td>\n",
       "      <td>0</td>\n",
       "      <td>0</td>\n",
       "      <td>0</td>\n",
       "      <td>0</td>\n",
       "      <td>0</td>\n",
       "      <td>...</td>\n",
       "      <td>216260</td>\n",
       "      <td>215968</td>\n",
       "      <td>174195</td>\n",
       "      <td>9405</td>\n",
       "      <td>7769</td>\n",
       "      <td>7757</td>\n",
       "      <td>8030</td>\n",
       "      <td>6549</td>\n",
       "      <td>5226</td>\n",
       "      <td>1</td>\n",
       "    </tr>\n",
       "    <tr>\n",
       "      <th>4</th>\n",
       "      <td>50000</td>\n",
       "      <td>1</td>\n",
       "      <td>2</td>\n",
       "      <td>1</td>\n",
       "      <td>42</td>\n",
       "      <td>0</td>\n",
       "      <td>0</td>\n",
       "      <td>0</td>\n",
       "      <td>0</td>\n",
       "      <td>0</td>\n",
       "      <td>...</td>\n",
       "      <td>31320</td>\n",
       "      <td>36227</td>\n",
       "      <td>35569</td>\n",
       "      <td>2007</td>\n",
       "      <td>2000</td>\n",
       "      <td>1500</td>\n",
       "      <td>5400</td>\n",
       "      <td>0</td>\n",
       "      <td>3000</td>\n",
       "      <td>0</td>\n",
       "    </tr>\n",
       "  </tbody>\n",
       "</table>\n",
       "<p>5 rows × 24 columns</p>\n",
       "</div>"
      ],
      "text/plain": [
       "   limit_balance  sex  education_level  marital_status  age  pay_0  pay_2  \\\n",
       "0          50000    1                3               0   50      0      0   \n",
       "1         200000    2                3               0   45     -2     -2   \n",
       "2         130000    1                1               1   45      0      0   \n",
       "3         230000    1                2               1   41      0      0   \n",
       "4          50000    1                2               1   42      0      0   \n",
       "\n",
       "   pay_3  pay_4  pay_5  ...  bill_amt_4  bill_amt_5  bill_amt_6  pay_amt_1  \\\n",
       "0      0     -1     -1  ...        3400        2769           0       2266   \n",
       "1     -2     -2     -2  ...         399        1396           0       2430   \n",
       "2      0      0      0  ...       62377       63832       65099       2886   \n",
       "3      0      0      0  ...      216260      215968      174195       9405   \n",
       "4      0      0      0  ...       31320       36227       35569       2007   \n",
       "\n",
       "   pay_amt_2  pay_amt_3  pay_amt_4  pay_amt_5  pay_amt_6  \\\n",
       "0          0       3400       2769       1700          0   \n",
       "1          0        399       1396          0          0   \n",
       "2       2908       2129       2354       2366       2291   \n",
       "3       7769       7757       8030       6549       5226   \n",
       "4       2000       1500       5400          0       3000   \n",
       "\n",
       "   default_payment_next_month  \n",
       "0                           0  \n",
       "1                           0  \n",
       "2                           0  \n",
       "3                           1  \n",
       "4                           0  \n",
       "\n",
       "[5 rows x 24 columns]"
      ]
     },
     "execution_count": 3,
     "metadata": {},
     "output_type": "execute_result"
    }
   ],
   "source": [
    "#Showing the first 5 data from the dataset\n",
    "df.head()"
   ]
  },
  {
   "cell_type": "code",
   "execution_count": 4,
   "metadata": {},
   "outputs": [
    {
     "data": {
      "text/html": [
       "<div>\n",
       "<style scoped>\n",
       "    .dataframe tbody tr th:only-of-type {\n",
       "        vertical-align: middle;\n",
       "    }\n",
       "\n",
       "    .dataframe tbody tr th {\n",
       "        vertical-align: top;\n",
       "    }\n",
       "\n",
       "    .dataframe thead th {\n",
       "        text-align: right;\n",
       "    }\n",
       "</style>\n",
       "<table border=\"1\" class=\"dataframe\">\n",
       "  <thead>\n",
       "    <tr style=\"text-align: right;\">\n",
       "      <th></th>\n",
       "      <th>limit_balance</th>\n",
       "      <th>sex</th>\n",
       "      <th>education_level</th>\n",
       "      <th>marital_status</th>\n",
       "      <th>age</th>\n",
       "      <th>pay_0</th>\n",
       "      <th>pay_2</th>\n",
       "      <th>pay_3</th>\n",
       "      <th>pay_4</th>\n",
       "      <th>pay_5</th>\n",
       "      <th>...</th>\n",
       "      <th>bill_amt_4</th>\n",
       "      <th>bill_amt_5</th>\n",
       "      <th>bill_amt_6</th>\n",
       "      <th>pay_amt_1</th>\n",
       "      <th>pay_amt_2</th>\n",
       "      <th>pay_amt_3</th>\n",
       "      <th>pay_amt_4</th>\n",
       "      <th>pay_amt_5</th>\n",
       "      <th>pay_amt_6</th>\n",
       "      <th>default_payment_next_month</th>\n",
       "    </tr>\n",
       "  </thead>\n",
       "  <tbody>\n",
       "    <tr>\n",
       "      <th>2960</th>\n",
       "      <td>320000</td>\n",
       "      <td>1</td>\n",
       "      <td>2</td>\n",
       "      <td>1</td>\n",
       "      <td>41</td>\n",
       "      <td>1</td>\n",
       "      <td>-2</td>\n",
       "      <td>-2</td>\n",
       "      <td>-2</td>\n",
       "      <td>-2</td>\n",
       "      <td>...</td>\n",
       "      <td>0</td>\n",
       "      <td>700</td>\n",
       "      <td>860</td>\n",
       "      <td>0</td>\n",
       "      <td>0</td>\n",
       "      <td>0</td>\n",
       "      <td>700</td>\n",
       "      <td>860</td>\n",
       "      <td>2420</td>\n",
       "      <td>1</td>\n",
       "    </tr>\n",
       "    <tr>\n",
       "      <th>2961</th>\n",
       "      <td>20000</td>\n",
       "      <td>1</td>\n",
       "      <td>1</td>\n",
       "      <td>1</td>\n",
       "      <td>39</td>\n",
       "      <td>-1</td>\n",
       "      <td>-1</td>\n",
       "      <td>-1</td>\n",
       "      <td>-1</td>\n",
       "      <td>-1</td>\n",
       "      <td>...</td>\n",
       "      <td>630</td>\n",
       "      <td>664</td>\n",
       "      <td>598</td>\n",
       "      <td>700</td>\n",
       "      <td>600</td>\n",
       "      <td>700</td>\n",
       "      <td>700</td>\n",
       "      <td>600</td>\n",
       "      <td>1400</td>\n",
       "      <td>0</td>\n",
       "    </tr>\n",
       "    <tr>\n",
       "      <th>2962</th>\n",
       "      <td>20000</td>\n",
       "      <td>1</td>\n",
       "      <td>2</td>\n",
       "      <td>2</td>\n",
       "      <td>25</td>\n",
       "      <td>0</td>\n",
       "      <td>0</td>\n",
       "      <td>0</td>\n",
       "      <td>0</td>\n",
       "      <td>0</td>\n",
       "      <td>...</td>\n",
       "      <td>16600</td>\n",
       "      <td>17025</td>\n",
       "      <td>17381</td>\n",
       "      <td>1300</td>\n",
       "      <td>1300</td>\n",
       "      <td>1300</td>\n",
       "      <td>700</td>\n",
       "      <td>630</td>\n",
       "      <td>650</td>\n",
       "      <td>0</td>\n",
       "    </tr>\n",
       "    <tr>\n",
       "      <th>2963</th>\n",
       "      <td>50000</td>\n",
       "      <td>1</td>\n",
       "      <td>2</td>\n",
       "      <td>2</td>\n",
       "      <td>38</td>\n",
       "      <td>0</td>\n",
       "      <td>0</td>\n",
       "      <td>0</td>\n",
       "      <td>0</td>\n",
       "      <td>0</td>\n",
       "      <td>...</td>\n",
       "      <td>17833</td>\n",
       "      <td>18246</td>\n",
       "      <td>18642</td>\n",
       "      <td>1300</td>\n",
       "      <td>1600</td>\n",
       "      <td>650</td>\n",
       "      <td>700</td>\n",
       "      <td>700</td>\n",
       "      <td>700</td>\n",
       "      <td>0</td>\n",
       "    </tr>\n",
       "    <tr>\n",
       "      <th>2964</th>\n",
       "      <td>100000</td>\n",
       "      <td>2</td>\n",
       "      <td>1</td>\n",
       "      <td>2</td>\n",
       "      <td>28</td>\n",
       "      <td>0</td>\n",
       "      <td>0</td>\n",
       "      <td>0</td>\n",
       "      <td>2</td>\n",
       "      <td>0</td>\n",
       "      <td>...</td>\n",
       "      <td>10775</td>\n",
       "      <td>10998</td>\n",
       "      <td>12655</td>\n",
       "      <td>1300</td>\n",
       "      <td>3005</td>\n",
       "      <td>0</td>\n",
       "      <td>700</td>\n",
       "      <td>2000</td>\n",
       "      <td>1500</td>\n",
       "      <td>0</td>\n",
       "    </tr>\n",
       "  </tbody>\n",
       "</table>\n",
       "<p>5 rows × 24 columns</p>\n",
       "</div>"
      ],
      "text/plain": [
       "      limit_balance  sex  education_level  marital_status  age  pay_0  pay_2  \\\n",
       "2960         320000    1                2               1   41      1     -2   \n",
       "2961          20000    1                1               1   39     -1     -1   \n",
       "2962          20000    1                2               2   25      0      0   \n",
       "2963          50000    1                2               2   38      0      0   \n",
       "2964         100000    2                1               2   28      0      0   \n",
       "\n",
       "      pay_3  pay_4  pay_5  ...  bill_amt_4  bill_amt_5  bill_amt_6  pay_amt_1  \\\n",
       "2960     -2     -2     -2  ...           0         700         860          0   \n",
       "2961     -1     -1     -1  ...         630         664         598        700   \n",
       "2962      0      0      0  ...       16600       17025       17381       1300   \n",
       "2963      0      0      0  ...       17833       18246       18642       1300   \n",
       "2964      0      2      0  ...       10775       10998       12655       1300   \n",
       "\n",
       "      pay_amt_2  pay_amt_3  pay_amt_4  pay_amt_5  pay_amt_6  \\\n",
       "2960          0          0        700        860       2420   \n",
       "2961        600        700        700        600       1400   \n",
       "2962       1300       1300        700        630        650   \n",
       "2963       1600        650        700        700        700   \n",
       "2964       3005          0        700       2000       1500   \n",
       "\n",
       "      default_payment_next_month  \n",
       "2960                           1  \n",
       "2961                           0  \n",
       "2962                           0  \n",
       "2963                           0  \n",
       "2964                           0  \n",
       "\n",
       "[5 rows x 24 columns]"
      ]
     },
     "execution_count": 4,
     "metadata": {},
     "output_type": "execute_result"
    }
   ],
   "source": [
    "#Showing the last 5 data from the dataset\n",
    "df.tail()"
   ]
  },
  {
   "cell_type": "code",
   "execution_count": 5,
   "metadata": {},
   "outputs": [
    {
     "name": "stdout",
     "output_type": "stream",
     "text": [
      "<class 'pandas.core.frame.DataFrame'>\n",
      "RangeIndex: 2965 entries, 0 to 2964\n",
      "Data columns (total 24 columns):\n",
      " #   Column                      Non-Null Count  Dtype\n",
      "---  ------                      --------------  -----\n",
      " 0   limit_balance               2965 non-null   int64\n",
      " 1   sex                         2965 non-null   int64\n",
      " 2   education_level             2965 non-null   int64\n",
      " 3   marital_status              2965 non-null   int64\n",
      " 4   age                         2965 non-null   int64\n",
      " 5   pay_0                       2965 non-null   int64\n",
      " 6   pay_2                       2965 non-null   int64\n",
      " 7   pay_3                       2965 non-null   int64\n",
      " 8   pay_4                       2965 non-null   int64\n",
      " 9   pay_5                       2965 non-null   int64\n",
      " 10  pay_6                       2965 non-null   int64\n",
      " 11  bill_amt_1                  2965 non-null   int64\n",
      " 12  bill_amt_2                  2965 non-null   int64\n",
      " 13  bill_amt_3                  2965 non-null   int64\n",
      " 14  bill_amt_4                  2965 non-null   int64\n",
      " 15  bill_amt_5                  2965 non-null   int64\n",
      " 16  bill_amt_6                  2965 non-null   int64\n",
      " 17  pay_amt_1                   2965 non-null   int64\n",
      " 18  pay_amt_2                   2965 non-null   int64\n",
      " 19  pay_amt_3                   2965 non-null   int64\n",
      " 20  pay_amt_4                   2965 non-null   int64\n",
      " 21  pay_amt_5                   2965 non-null   int64\n",
      " 22  pay_amt_6                   2965 non-null   int64\n",
      " 23  default_payment_next_month  2965 non-null   int64\n",
      "dtypes: int64(24)\n",
      "memory usage: 556.1 KB\n"
     ]
    }
   ],
   "source": [
    "#Checking the information about each columns from the dataset\n",
    "df.info()"
   ]
  },
  {
   "cell_type": "code",
   "execution_count": 6,
   "metadata": {},
   "outputs": [
    {
     "data": {
      "text/html": [
       "<div>\n",
       "<style scoped>\n",
       "    .dataframe tbody tr th:only-of-type {\n",
       "        vertical-align: middle;\n",
       "    }\n",
       "\n",
       "    .dataframe tbody tr th {\n",
       "        vertical-align: top;\n",
       "    }\n",
       "\n",
       "    .dataframe thead th {\n",
       "        text-align: right;\n",
       "    }\n",
       "</style>\n",
       "<table border=\"1\" class=\"dataframe\">\n",
       "  <thead>\n",
       "    <tr style=\"text-align: right;\">\n",
       "      <th></th>\n",
       "      <th>count</th>\n",
       "      <th>mean</th>\n",
       "      <th>std</th>\n",
       "      <th>min</th>\n",
       "      <th>25%</th>\n",
       "      <th>50%</th>\n",
       "      <th>75%</th>\n",
       "      <th>max</th>\n",
       "    </tr>\n",
       "  </thead>\n",
       "  <tbody>\n",
       "    <tr>\n",
       "      <th>limit_balance</th>\n",
       "      <td>2965.0</td>\n",
       "      <td>163369.308600</td>\n",
       "      <td>125030.415472</td>\n",
       "      <td>10000.0</td>\n",
       "      <td>50000.0</td>\n",
       "      <td>140000.0</td>\n",
       "      <td>230000.0</td>\n",
       "      <td>800000.0</td>\n",
       "    </tr>\n",
       "    <tr>\n",
       "      <th>sex</th>\n",
       "      <td>2965.0</td>\n",
       "      <td>1.607757</td>\n",
       "      <td>0.488333</td>\n",
       "      <td>1.0</td>\n",
       "      <td>1.0</td>\n",
       "      <td>2.0</td>\n",
       "      <td>2.0</td>\n",
       "      <td>2.0</td>\n",
       "    </tr>\n",
       "    <tr>\n",
       "      <th>education_level</th>\n",
       "      <td>2965.0</td>\n",
       "      <td>1.849578</td>\n",
       "      <td>0.778184</td>\n",
       "      <td>0.0</td>\n",
       "      <td>1.0</td>\n",
       "      <td>2.0</td>\n",
       "      <td>2.0</td>\n",
       "      <td>6.0</td>\n",
       "    </tr>\n",
       "    <tr>\n",
       "      <th>marital_status</th>\n",
       "      <td>2965.0</td>\n",
       "      <td>1.559865</td>\n",
       "      <td>0.522317</td>\n",
       "      <td>0.0</td>\n",
       "      <td>1.0</td>\n",
       "      <td>2.0</td>\n",
       "      <td>2.0</td>\n",
       "      <td>3.0</td>\n",
       "    </tr>\n",
       "    <tr>\n",
       "      <th>age</th>\n",
       "      <td>2965.0</td>\n",
       "      <td>35.193255</td>\n",
       "      <td>9.109439</td>\n",
       "      <td>21.0</td>\n",
       "      <td>28.0</td>\n",
       "      <td>34.0</td>\n",
       "      <td>41.0</td>\n",
       "      <td>69.0</td>\n",
       "    </tr>\n",
       "    <tr>\n",
       "      <th>pay_0</th>\n",
       "      <td>2965.0</td>\n",
       "      <td>0.005059</td>\n",
       "      <td>1.114395</td>\n",
       "      <td>-2.0</td>\n",
       "      <td>-1.0</td>\n",
       "      <td>0.0</td>\n",
       "      <td>0.0</td>\n",
       "      <td>8.0</td>\n",
       "    </tr>\n",
       "    <tr>\n",
       "      <th>pay_2</th>\n",
       "      <td>2965.0</td>\n",
       "      <td>-0.122428</td>\n",
       "      <td>1.180784</td>\n",
       "      <td>-2.0</td>\n",
       "      <td>-1.0</td>\n",
       "      <td>0.0</td>\n",
       "      <td>0.0</td>\n",
       "      <td>7.0</td>\n",
       "    </tr>\n",
       "    <tr>\n",
       "      <th>pay_3</th>\n",
       "      <td>2965.0</td>\n",
       "      <td>-0.141653</td>\n",
       "      <td>1.183630</td>\n",
       "      <td>-2.0</td>\n",
       "      <td>-1.0</td>\n",
       "      <td>0.0</td>\n",
       "      <td>0.0</td>\n",
       "      <td>7.0</td>\n",
       "    </tr>\n",
       "    <tr>\n",
       "      <th>pay_4</th>\n",
       "      <td>2965.0</td>\n",
       "      <td>-0.185160</td>\n",
       "      <td>1.178322</td>\n",
       "      <td>-2.0</td>\n",
       "      <td>-1.0</td>\n",
       "      <td>0.0</td>\n",
       "      <td>0.0</td>\n",
       "      <td>8.0</td>\n",
       "    </tr>\n",
       "    <tr>\n",
       "      <th>pay_5</th>\n",
       "      <td>2965.0</td>\n",
       "      <td>-0.225295</td>\n",
       "      <td>1.159003</td>\n",
       "      <td>-2.0</td>\n",
       "      <td>-1.0</td>\n",
       "      <td>0.0</td>\n",
       "      <td>0.0</td>\n",
       "      <td>7.0</td>\n",
       "    </tr>\n",
       "    <tr>\n",
       "      <th>pay_6</th>\n",
       "      <td>2965.0</td>\n",
       "      <td>-0.254637</td>\n",
       "      <td>1.167305</td>\n",
       "      <td>-2.0</td>\n",
       "      <td>-1.0</td>\n",
       "      <td>0.0</td>\n",
       "      <td>0.0</td>\n",
       "      <td>7.0</td>\n",
       "    </tr>\n",
       "    <tr>\n",
       "      <th>bill_amt_1</th>\n",
       "      <td>2965.0</td>\n",
       "      <td>52118.305228</td>\n",
       "      <td>72328.670541</td>\n",
       "      <td>-11545.0</td>\n",
       "      <td>3958.0</td>\n",
       "      <td>24257.0</td>\n",
       "      <td>69852.0</td>\n",
       "      <td>613860.0</td>\n",
       "    </tr>\n",
       "    <tr>\n",
       "      <th>bill_amt_2</th>\n",
       "      <td>2965.0</td>\n",
       "      <td>50649.153120</td>\n",
       "      <td>70785.001588</td>\n",
       "      <td>-67526.0</td>\n",
       "      <td>3390.0</td>\n",
       "      <td>23111.0</td>\n",
       "      <td>67827.0</td>\n",
       "      <td>512650.0</td>\n",
       "    </tr>\n",
       "    <tr>\n",
       "      <th>bill_amt_3</th>\n",
       "      <td>2965.0</td>\n",
       "      <td>48239.757504</td>\n",
       "      <td>68145.710745</td>\n",
       "      <td>-25443.0</td>\n",
       "      <td>3302.0</td>\n",
       "      <td>21520.0</td>\n",
       "      <td>63023.0</td>\n",
       "      <td>578971.0</td>\n",
       "    </tr>\n",
       "    <tr>\n",
       "      <th>bill_amt_4</th>\n",
       "      <td>2965.0</td>\n",
       "      <td>44089.683305</td>\n",
       "      <td>61907.454056</td>\n",
       "      <td>-46627.0</td>\n",
       "      <td>2582.0</td>\n",
       "      <td>19894.0</td>\n",
       "      <td>58622.0</td>\n",
       "      <td>488808.0</td>\n",
       "    </tr>\n",
       "    <tr>\n",
       "      <th>bill_amt_5</th>\n",
       "      <td>2965.0</td>\n",
       "      <td>40956.080607</td>\n",
       "      <td>58271.904751</td>\n",
       "      <td>-46627.0</td>\n",
       "      <td>1958.0</td>\n",
       "      <td>18814.0</td>\n",
       "      <td>53373.0</td>\n",
       "      <td>441981.0</td>\n",
       "    </tr>\n",
       "    <tr>\n",
       "      <th>bill_amt_6</th>\n",
       "      <td>2965.0</td>\n",
       "      <td>39773.072513</td>\n",
       "      <td>57303.488981</td>\n",
       "      <td>-73895.0</td>\n",
       "      <td>1430.0</td>\n",
       "      <td>18508.0</td>\n",
       "      <td>52287.0</td>\n",
       "      <td>436172.0</td>\n",
       "    </tr>\n",
       "    <tr>\n",
       "      <th>pay_amt_1</th>\n",
       "      <td>2965.0</td>\n",
       "      <td>6348.902867</td>\n",
       "      <td>20885.735336</td>\n",
       "      <td>0.0</td>\n",
       "      <td>1013.0</td>\n",
       "      <td>2234.0</td>\n",
       "      <td>5087.0</td>\n",
       "      <td>493358.0</td>\n",
       "    </tr>\n",
       "    <tr>\n",
       "      <th>pay_amt_2</th>\n",
       "      <td>2965.0</td>\n",
       "      <td>6272.494435</td>\n",
       "      <td>28879.674534</td>\n",
       "      <td>0.0</td>\n",
       "      <td>990.0</td>\n",
       "      <td>2175.0</td>\n",
       "      <td>5000.0</td>\n",
       "      <td>1227082.0</td>\n",
       "    </tr>\n",
       "    <tr>\n",
       "      <th>pay_amt_3</th>\n",
       "      <td>2965.0</td>\n",
       "      <td>5150.497133</td>\n",
       "      <td>14287.079982</td>\n",
       "      <td>0.0</td>\n",
       "      <td>477.0</td>\n",
       "      <td>1994.0</td>\n",
       "      <td>4500.0</td>\n",
       "      <td>199209.0</td>\n",
       "    </tr>\n",
       "    <tr>\n",
       "      <th>pay_amt_4</th>\n",
       "      <td>2965.0</td>\n",
       "      <td>4561.376054</td>\n",
       "      <td>13281.499599</td>\n",
       "      <td>0.0</td>\n",
       "      <td>313.0</td>\n",
       "      <td>1600.0</td>\n",
       "      <td>4000.0</td>\n",
       "      <td>202076.0</td>\n",
       "    </tr>\n",
       "    <tr>\n",
       "      <th>pay_amt_5</th>\n",
       "      <td>2965.0</td>\n",
       "      <td>4913.286678</td>\n",
       "      <td>16734.340778</td>\n",
       "      <td>0.0</td>\n",
       "      <td>323.0</td>\n",
       "      <td>1646.0</td>\n",
       "      <td>4021.0</td>\n",
       "      <td>388071.0</td>\n",
       "    </tr>\n",
       "    <tr>\n",
       "      <th>pay_amt_6</th>\n",
       "      <td>2965.0</td>\n",
       "      <td>5382.701518</td>\n",
       "      <td>17275.953029</td>\n",
       "      <td>0.0</td>\n",
       "      <td>173.0</td>\n",
       "      <td>1615.0</td>\n",
       "      <td>4081.0</td>\n",
       "      <td>403500.0</td>\n",
       "    </tr>\n",
       "    <tr>\n",
       "      <th>default_payment_next_month</th>\n",
       "      <td>2965.0</td>\n",
       "      <td>0.214165</td>\n",
       "      <td>0.410311</td>\n",
       "      <td>0.0</td>\n",
       "      <td>0.0</td>\n",
       "      <td>0.0</td>\n",
       "      <td>0.0</td>\n",
       "      <td>1.0</td>\n",
       "    </tr>\n",
       "  </tbody>\n",
       "</table>\n",
       "</div>"
      ],
      "text/plain": [
       "                             count           mean            std      min  \\\n",
       "limit_balance               2965.0  163369.308600  125030.415472  10000.0   \n",
       "sex                         2965.0       1.607757       0.488333      1.0   \n",
       "education_level             2965.0       1.849578       0.778184      0.0   \n",
       "marital_status              2965.0       1.559865       0.522317      0.0   \n",
       "age                         2965.0      35.193255       9.109439     21.0   \n",
       "pay_0                       2965.0       0.005059       1.114395     -2.0   \n",
       "pay_2                       2965.0      -0.122428       1.180784     -2.0   \n",
       "pay_3                       2965.0      -0.141653       1.183630     -2.0   \n",
       "pay_4                       2965.0      -0.185160       1.178322     -2.0   \n",
       "pay_5                       2965.0      -0.225295       1.159003     -2.0   \n",
       "pay_6                       2965.0      -0.254637       1.167305     -2.0   \n",
       "bill_amt_1                  2965.0   52118.305228   72328.670541 -11545.0   \n",
       "bill_amt_2                  2965.0   50649.153120   70785.001588 -67526.0   \n",
       "bill_amt_3                  2965.0   48239.757504   68145.710745 -25443.0   \n",
       "bill_amt_4                  2965.0   44089.683305   61907.454056 -46627.0   \n",
       "bill_amt_5                  2965.0   40956.080607   58271.904751 -46627.0   \n",
       "bill_amt_6                  2965.0   39773.072513   57303.488981 -73895.0   \n",
       "pay_amt_1                   2965.0    6348.902867   20885.735336      0.0   \n",
       "pay_amt_2                   2965.0    6272.494435   28879.674534      0.0   \n",
       "pay_amt_3                   2965.0    5150.497133   14287.079982      0.0   \n",
       "pay_amt_4                   2965.0    4561.376054   13281.499599      0.0   \n",
       "pay_amt_5                   2965.0    4913.286678   16734.340778      0.0   \n",
       "pay_amt_6                   2965.0    5382.701518   17275.953029      0.0   \n",
       "default_payment_next_month  2965.0       0.214165       0.410311      0.0   \n",
       "\n",
       "                                25%       50%       75%        max  \n",
       "limit_balance               50000.0  140000.0  230000.0   800000.0  \n",
       "sex                             1.0       2.0       2.0        2.0  \n",
       "education_level                 1.0       2.0       2.0        6.0  \n",
       "marital_status                  1.0       2.0       2.0        3.0  \n",
       "age                            28.0      34.0      41.0       69.0  \n",
       "pay_0                          -1.0       0.0       0.0        8.0  \n",
       "pay_2                          -1.0       0.0       0.0        7.0  \n",
       "pay_3                          -1.0       0.0       0.0        7.0  \n",
       "pay_4                          -1.0       0.0       0.0        8.0  \n",
       "pay_5                          -1.0       0.0       0.0        7.0  \n",
       "pay_6                          -1.0       0.0       0.0        7.0  \n",
       "bill_amt_1                   3958.0   24257.0   69852.0   613860.0  \n",
       "bill_amt_2                   3390.0   23111.0   67827.0   512650.0  \n",
       "bill_amt_3                   3302.0   21520.0   63023.0   578971.0  \n",
       "bill_amt_4                   2582.0   19894.0   58622.0   488808.0  \n",
       "bill_amt_5                   1958.0   18814.0   53373.0   441981.0  \n",
       "bill_amt_6                   1430.0   18508.0   52287.0   436172.0  \n",
       "pay_amt_1                    1013.0    2234.0    5087.0   493358.0  \n",
       "pay_amt_2                     990.0    2175.0    5000.0  1227082.0  \n",
       "pay_amt_3                     477.0    1994.0    4500.0   199209.0  \n",
       "pay_amt_4                     313.0    1600.0    4000.0   202076.0  \n",
       "pay_amt_5                     323.0    1646.0    4021.0   388071.0  \n",
       "pay_amt_6                     173.0    1615.0    4081.0   403500.0  \n",
       "default_payment_next_month      0.0       0.0       0.0        1.0  "
      ]
     },
     "execution_count": 6,
     "metadata": {},
     "output_type": "execute_result"
    }
   ],
   "source": [
    "#Generate and checking the descriptive statistic from the data\n",
    "df.describe().T"
   ]
  },
  {
   "cell_type": "markdown",
   "metadata": {},
   "source": [
    "#### Data Cleaning"
   ]
  },
  {
   "cell_type": "code",
   "execution_count": 7,
   "metadata": {},
   "outputs": [
    {
     "data": {
      "text/plain": [
       "True"
      ]
     },
     "execution_count": 7,
     "metadata": {},
     "output_type": "execute_result"
    }
   ],
   "source": [
    "#Checking if there is duplicated data\n",
    "df.duplicated().any()"
   ]
  },
  {
   "cell_type": "markdown",
   "metadata": {},
   "source": [
    "After checking, there is duplicated data from the dataset showed from the result which is True."
   ]
  },
  {
   "cell_type": "code",
   "execution_count": 8,
   "metadata": {},
   "outputs": [
    {
     "data": {
      "text/html": [
       "<div>\n",
       "<style scoped>\n",
       "    .dataframe tbody tr th:only-of-type {\n",
       "        vertical-align: middle;\n",
       "    }\n",
       "\n",
       "    .dataframe tbody tr th {\n",
       "        vertical-align: top;\n",
       "    }\n",
       "\n",
       "    .dataframe thead th {\n",
       "        text-align: right;\n",
       "    }\n",
       "</style>\n",
       "<table border=\"1\" class=\"dataframe\">\n",
       "  <thead>\n",
       "    <tr style=\"text-align: right;\">\n",
       "      <th></th>\n",
       "      <th>limit_balance</th>\n",
       "      <th>sex</th>\n",
       "      <th>education_level</th>\n",
       "      <th>marital_status</th>\n",
       "      <th>age</th>\n",
       "      <th>pay_0</th>\n",
       "      <th>pay_2</th>\n",
       "      <th>pay_3</th>\n",
       "      <th>pay_4</th>\n",
       "      <th>pay_5</th>\n",
       "      <th>...</th>\n",
       "      <th>bill_amt_4</th>\n",
       "      <th>bill_amt_5</th>\n",
       "      <th>bill_amt_6</th>\n",
       "      <th>pay_amt_1</th>\n",
       "      <th>pay_amt_2</th>\n",
       "      <th>pay_amt_3</th>\n",
       "      <th>pay_amt_4</th>\n",
       "      <th>pay_amt_5</th>\n",
       "      <th>pay_amt_6</th>\n",
       "      <th>default_payment_next_month</th>\n",
       "    </tr>\n",
       "  </thead>\n",
       "  <tbody>\n",
       "    <tr>\n",
       "      <th>1754</th>\n",
       "      <td>200000</td>\n",
       "      <td>2</td>\n",
       "      <td>1</td>\n",
       "      <td>1</td>\n",
       "      <td>34</td>\n",
       "      <td>1</td>\n",
       "      <td>-2</td>\n",
       "      <td>-2</td>\n",
       "      <td>-2</td>\n",
       "      <td>-2</td>\n",
       "      <td>...</td>\n",
       "      <td>0</td>\n",
       "      <td>0</td>\n",
       "      <td>0</td>\n",
       "      <td>0</td>\n",
       "      <td>0</td>\n",
       "      <td>0</td>\n",
       "      <td>0</td>\n",
       "      <td>0</td>\n",
       "      <td>0</td>\n",
       "      <td>0</td>\n",
       "    </tr>\n",
       "  </tbody>\n",
       "</table>\n",
       "<p>1 rows × 24 columns</p>\n",
       "</div>"
      ],
      "text/plain": [
       "      limit_balance  sex  education_level  marital_status  age  pay_0  pay_2  \\\n",
       "1754         200000    2                1               1   34      1     -2   \n",
       "\n",
       "      pay_3  pay_4  pay_5  ...  bill_amt_4  bill_amt_5  bill_amt_6  pay_amt_1  \\\n",
       "1754     -2     -2     -2  ...           0           0           0          0   \n",
       "\n",
       "      pay_amt_2  pay_amt_3  pay_amt_4  pay_amt_5  pay_amt_6  \\\n",
       "1754          0          0          0          0          0   \n",
       "\n",
       "      default_payment_next_month  \n",
       "1754                           0  \n",
       "\n",
       "[1 rows x 24 columns]"
      ]
     },
     "execution_count": 8,
     "metadata": {},
     "output_type": "execute_result"
    }
   ],
   "source": [
    "df[df.duplicated() == True]"
   ]
  },
  {
   "cell_type": "markdown",
   "metadata": {},
   "source": [
    "As we can see, there is one duplicated data which is in row 1754. And I am going to drop the duplicated data from the dataset, because two exact same data value can be represented by one of it. And also datasets that contain duplicates may contaminate the training data with the test data or vice versa."
   ]
  },
  {
   "cell_type": "code",
   "execution_count": 9,
   "metadata": {},
   "outputs": [],
   "source": [
    "#Dropping the duplicated data\n",
    "df.drop([1754], inplace=True)"
   ]
  },
  {
   "cell_type": "code",
   "execution_count": 10,
   "metadata": {},
   "outputs": [
    {
     "data": {
      "text/plain": [
       "False"
      ]
     },
     "execution_count": 10,
     "metadata": {},
     "output_type": "execute_result"
    }
   ],
   "source": [
    "df.duplicated().any()"
   ]
  },
  {
   "cell_type": "markdown",
   "metadata": {},
   "source": [
    "After dropping the duplicated data in row 1754, there is no duplicated data anymore. Which means we can analyze the data further more."
   ]
  },
  {
   "cell_type": "code",
   "execution_count": 11,
   "metadata": {},
   "outputs": [
    {
     "data": {
      "text/plain": [
       "limit_balance                 0\n",
       "sex                           0\n",
       "education_level               0\n",
       "marital_status                0\n",
       "age                           0\n",
       "pay_0                         0\n",
       "pay_2                         0\n",
       "pay_3                         0\n",
       "pay_4                         0\n",
       "pay_5                         0\n",
       "pay_6                         0\n",
       "bill_amt_1                    0\n",
       "bill_amt_2                    0\n",
       "bill_amt_3                    0\n",
       "bill_amt_4                    0\n",
       "bill_amt_5                    0\n",
       "bill_amt_6                    0\n",
       "pay_amt_1                     0\n",
       "pay_amt_2                     0\n",
       "pay_amt_3                     0\n",
       "pay_amt_4                     0\n",
       "pay_amt_5                     0\n",
       "pay_amt_6                     0\n",
       "default_payment_next_month    0\n",
       "dtype: int64"
      ]
     },
     "execution_count": 11,
     "metadata": {},
     "output_type": "execute_result"
    }
   ],
   "source": [
    "df.isnull().sum()"
   ]
  },
  {
   "cell_type": "markdown",
   "metadata": {},
   "source": [
    "From the result above, we can tell that there is no missing value from the dataset."
   ]
  },
  {
   "cell_type": "code",
   "execution_count": 12,
   "metadata": {},
   "outputs": [
    {
     "data": {
      "text/plain": [
       "Index(['limit_balance', 'sex', 'education_level', 'marital_status', 'age',\n",
       "       'pay_1', 'pay_2', 'pay_3', 'pay_4', 'pay_5', 'pay_6', 'bill_amt_1',\n",
       "       'bill_amt_2', 'bill_amt_3', 'bill_amt_4', 'bill_amt_5', 'bill_amt_6',\n",
       "       'pay_amt_1', 'pay_amt_2', 'pay_amt_3', 'pay_amt_4', 'pay_amt_5',\n",
       "       'pay_amt_6', 'default_payment'],\n",
       "      dtype='object')"
      ]
     },
     "execution_count": 12,
     "metadata": {},
     "output_type": "execute_result"
    }
   ],
   "source": [
    "df.rename(columns={'default_payment_next_month':'default_payment', 'pay_0':'pay_1'}, inplace=True)\n",
    "df.columns"
   ]
  },
  {
   "cell_type": "markdown",
   "metadata": {},
   "source": [
    "If we pay attention closer to the columns on the dataset, there is no pay_1. so after pay_0, it's pay_2. In this case, I will just rename pay_0 to pay_1 to make the data be more ordered. and I also changed the 'default_payment_next_month' column name to 'default_payment' for better convinience."
   ]
  },
  {
   "cell_type": "markdown",
   "metadata": {},
   "source": [
    "---"
   ]
  },
  {
   "cell_type": "markdown",
   "metadata": {},
   "source": [
    "#### Checking the Categorical Value from Each Categorical Columns"
   ]
  },
  {
   "cell_type": "markdown",
   "metadata": {},
   "source": [
    "##### sex:\n",
    "- 1 = male\n",
    "- 2 = female"
   ]
  },
  {
   "cell_type": "code",
   "execution_count": 13,
   "metadata": {},
   "outputs": [
    {
     "data": {
      "text/plain": [
       "2    1801\n",
       "1    1163\n",
       "Name: sex, dtype: int64"
      ]
     },
     "execution_count": 13,
     "metadata": {},
     "output_type": "execute_result"
    }
   ],
   "source": [
    "df['sex'].value_counts()"
   ]
  },
  {
   "cell_type": "markdown",
   "metadata": {},
   "source": [
    "The data divided correctly and showed there are 1801 female and 1163 male."
   ]
  },
  {
   "cell_type": "markdown",
   "metadata": {},
   "source": [
    "##### education_level:\n",
    "- 1 = graduate school\n",
    "- 2 = university\n",
    "- 3 = high school\n",
    "- 4 = others"
   ]
  },
  {
   "cell_type": "code",
   "execution_count": 14,
   "metadata": {},
   "outputs": [
    {
     "data": {
      "text/plain": [
       "2    1400\n",
       "1    1038\n",
       "3     483\n",
       "5      24\n",
       "4      13\n",
       "6       4\n",
       "0       2\n",
       "Name: education_level, dtype: int64"
      ]
     },
     "execution_count": 14,
     "metadata": {},
     "output_type": "execute_result"
    }
   ],
   "source": [
    "df['education_level'].value_counts()"
   ]
  },
  {
   "cell_type": "markdown",
   "metadata": {},
   "source": [
    "As we can see in dataset we have values like 5, 6, 0 as well, which we have no description about, so we can add them to category 4, which is Others."
   ]
  },
  {
   "cell_type": "code",
   "execution_count": 15,
   "metadata": {},
   "outputs": [
    {
     "data": {
      "text/plain": [
       "2    1400\n",
       "1    1038\n",
       "3     483\n",
       "4      43\n",
       "Name: education_level, dtype: int64"
      ]
     },
     "execution_count": 15,
     "metadata": {},
     "output_type": "execute_result"
    }
   ],
   "source": [
    "edu = (df['education_level'] == 5) | (df['education_level'] == 6) | (df['education_level'] == 0)\n",
    "df.loc[edu, 'education_level'] = 4\n",
    "df['education_level'].value_counts()"
   ]
  },
  {
   "cell_type": "markdown",
   "metadata": {},
   "source": [
    "Now as we can see, the data category divide looks more organized."
   ]
  },
  {
   "cell_type": "markdown",
   "metadata": {},
   "source": [
    "#### marital_status:\n",
    "- 1 = married\n",
    "- 2 = single\n",
    "- 3 = others"
   ]
  },
  {
   "cell_type": "code",
   "execution_count": 16,
   "metadata": {},
   "outputs": [
    {
     "data": {
      "text/plain": [
       "2    1594\n",
       "1    1331\n",
       "3      35\n",
       "0       4\n",
       "Name: marital_status, dtype: int64"
      ]
     },
     "execution_count": 16,
     "metadata": {},
     "output_type": "execute_result"
    }
   ],
   "source": [
    "df['marital_status'].value_counts()"
   ]
  },
  {
   "cell_type": "markdown",
   "metadata": {},
   "source": [
    "After seeing the value of 'marital_status' column, there is value 0 which is not determined. So, might as well I am going to add the value to value 3 which is Others."
   ]
  },
  {
   "cell_type": "code",
   "execution_count": 17,
   "metadata": {},
   "outputs": [
    {
     "data": {
      "text/plain": [
       "2    1594\n",
       "1    1331\n",
       "3      39\n",
       "Name: marital_status, dtype: int64"
      ]
     },
     "execution_count": 17,
     "metadata": {},
     "output_type": "execute_result"
    }
   ],
   "source": [
    "mar = df['marital_status'] == 0\n",
    "df.loc[mar, 'marital_status'] = 3\n",
    "df['marital_status'].value_counts()"
   ]
  },
  {
   "cell_type": "markdown",
   "metadata": {},
   "source": [
    "#### pay_1 - pay_6\n",
    "\n",
    "Now I am going to check the value of repayment status, from pay_1 until pay_6. From the columns description about repayment status, we can see the meaning of each value.\n",
    "\n",
    "\n",
    "pay_1 until pay_6 = Repayment status\n",
    "- -1 = pay duly\n",
    "- 1 = payment delay for one month\n",
    "- 2 = payment delay for two months\n",
    "\n",
    "    ...\n",
    "\n",
    "- 9 = payment delay for nine months and above"
   ]
  },
  {
   "cell_type": "code",
   "execution_count": 18,
   "metadata": {},
   "outputs": [],
   "source": [
    "df_pay = df[['pay_1', 'pay_2', 'pay_3', 'pay_4', 'pay_5', 'pay_6']]"
   ]
  },
  {
   "cell_type": "code",
   "execution_count": 19,
   "metadata": {},
   "outputs": [
    {
     "name": "stdout",
     "output_type": "stream",
     "text": [
      "pay_1 \n",
      "\n",
      " 0    1516\n",
      "-1     540\n",
      " 1     355\n",
      " 2     262\n",
      "-2     247\n",
      " 3      29\n",
      " 4       7\n",
      " 8       3\n",
      " 5       2\n",
      " 7       2\n",
      " 6       1\n",
      "Name: pay_1, dtype: int64\n",
      "------------------------------\n",
      "pay_2 \n",
      "\n",
      " 0    1607\n",
      "-1     580\n",
      " 2     374\n",
      "-2     352\n",
      " 3      32\n",
      " 4       8\n",
      " 1       4\n",
      " 7       3\n",
      " 6       2\n",
      " 5       2\n",
      "Name: pay_2, dtype: int64\n",
      "------------------------------\n",
      "pay_3 \n",
      "\n",
      " 0    1610\n",
      "-1     580\n",
      " 2     368\n",
      "-2     366\n",
      " 3      22\n",
      " 4       8\n",
      " 6       4\n",
      " 5       3\n",
      " 7       3\n",
      "Name: pay_3, dtype: int64\n",
      "------------------------------\n",
      "pay_4 \n",
      "\n",
      " 0    1667\n",
      "-1     532\n",
      "-2     407\n",
      " 2     324\n",
      " 3      14\n",
      " 4       7\n",
      " 7       6\n",
      " 5       5\n",
      " 6       1\n",
      " 8       1\n",
      "Name: pay_4, dtype: int64\n",
      "------------------------------\n",
      "pay_5 \n",
      "\n",
      " 0    1702\n",
      "-1     504\n",
      "-2     440\n",
      " 2     280\n",
      " 3      19\n",
      " 4       9\n",
      " 7       7\n",
      " 5       2\n",
      " 6       1\n",
      "Name: pay_5, dtype: int64\n",
      "------------------------------\n",
      "pay_6 \n",
      "\n",
      " 0    1626\n",
      "-1     540\n",
      "-2     469\n",
      " 2     297\n",
      " 3      21\n",
      " 7       6\n",
      " 6       3\n",
      " 4       2\n",
      "Name: pay_6, dtype: int64\n",
      "------------------------------\n"
     ]
    }
   ],
   "source": [
    "for i in df_pay.columns.tolist():\n",
    "    print(i, '\\n')\n",
    "    print(df_pay[i].value_counts())\n",
    "    print('-'*30)"
   ]
  },
  {
   "cell_type": "markdown",
   "metadata": {},
   "source": [
    "It is seen that there is value -2 and 0 which is not defined in the description. So, to make the data easier to analyze, I will group certain values to be the same value.\n",
    "\n",
    "In this case, I will add value -1 and -2 to the value 0. So value 0, -1 and -2 will be considered as 'pay duly'.\n",
    "\n",
    "And, I will gather all the values that is more than 2, to the value 3, which means value 3 is payment delay for more than 2 months."
   ]
  },
  {
   "cell_type": "code",
   "execution_count": 20,
   "metadata": {},
   "outputs": [
    {
     "name": "stdout",
     "output_type": "stream",
     "text": [
      "0    2303\n",
      "1     355\n",
      "2     262\n",
      "3      44\n",
      "Name: pay_1, dtype: int64\n",
      "------------------------------\n",
      "0    2539\n",
      "2     374\n",
      "3      47\n",
      "1       4\n",
      "Name: pay_2, dtype: int64\n",
      "------------------------------\n",
      "0    2556\n",
      "2     368\n",
      "3      40\n",
      "Name: pay_3, dtype: int64\n",
      "------------------------------\n",
      "0    2606\n",
      "2     324\n",
      "3      34\n",
      "Name: pay_4, dtype: int64\n",
      "------------------------------\n",
      "0    2646\n",
      "2     280\n",
      "3      38\n",
      "Name: pay_5, dtype: int64\n",
      "------------------------------\n",
      "0    2635\n",
      "2     297\n",
      "3      32\n",
      "Name: pay_6, dtype: int64\n",
      "------------------------------\n"
     ]
    }
   ],
   "source": [
    "for i in df_pay:\n",
    "    edu = (df_pay[i] == -1) | (df_pay[i] == -2)\n",
    "    df_pay.loc[edu, i] = 0\n",
    "    \n",
    "    edu = (df_pay[i] == 4) | (df_pay[i] == 5) | (df_pay[i] == 6) | (df_pay[i] == 7) | (df_pay[i] == 8)\n",
    "    df_pay.loc[edu, i] = 3\n",
    "\n",
    "    print(df_pay[i].value_counts())\n",
    "    print('-'*30)"
   ]
  },
  {
   "cell_type": "markdown",
   "metadata": {},
   "source": [
    "After reducing the unique value in repayment status, it feels more convenient to observe and analyze repayment status columns. So that now the values are changed, it means the value descriptions are also changed.\n",
    "\n",
    "- 0 = pay duly\n",
    "- 1 = repayment delay for one month\n",
    "- 2 = repayment delay for two months\n",
    "- 3 = repayment delay for more than two months"
   ]
  },
  {
   "cell_type": "code",
   "execution_count": 21,
   "metadata": {},
   "outputs": [],
   "source": [
    "df.drop(['pay_1', 'pay_2', 'pay_3', 'pay_4', 'pay_5', 'pay_6'], axis=1, inplace=True)"
   ]
  },
  {
   "cell_type": "markdown",
   "metadata": {},
   "source": [
    "I am going to replace the repayment status old columns to the new repayment status column which is df_pay. But before I do that, I have to drop the old columns of repayment status."
   ]
  },
  {
   "cell_type": "code",
   "execution_count": 22,
   "metadata": {},
   "outputs": [
    {
     "data": {
      "text/html": [
       "<div>\n",
       "<style scoped>\n",
       "    .dataframe tbody tr th:only-of-type {\n",
       "        vertical-align: middle;\n",
       "    }\n",
       "\n",
       "    .dataframe tbody tr th {\n",
       "        vertical-align: top;\n",
       "    }\n",
       "\n",
       "    .dataframe thead th {\n",
       "        text-align: right;\n",
       "    }\n",
       "</style>\n",
       "<table border=\"1\" class=\"dataframe\">\n",
       "  <thead>\n",
       "    <tr style=\"text-align: right;\">\n",
       "      <th></th>\n",
       "      <th>limit_balance</th>\n",
       "      <th>sex</th>\n",
       "      <th>education_level</th>\n",
       "      <th>marital_status</th>\n",
       "      <th>age</th>\n",
       "      <th>bill_amt_1</th>\n",
       "      <th>bill_amt_2</th>\n",
       "      <th>bill_amt_3</th>\n",
       "      <th>bill_amt_4</th>\n",
       "      <th>bill_amt_5</th>\n",
       "      <th>...</th>\n",
       "      <th>pay_amt_4</th>\n",
       "      <th>pay_amt_5</th>\n",
       "      <th>pay_amt_6</th>\n",
       "      <th>default_payment</th>\n",
       "      <th>pay_1</th>\n",
       "      <th>pay_2</th>\n",
       "      <th>pay_3</th>\n",
       "      <th>pay_4</th>\n",
       "      <th>pay_5</th>\n",
       "      <th>pay_6</th>\n",
       "    </tr>\n",
       "  </thead>\n",
       "  <tbody>\n",
       "    <tr>\n",
       "      <th>0</th>\n",
       "      <td>50000</td>\n",
       "      <td>1</td>\n",
       "      <td>3</td>\n",
       "      <td>3</td>\n",
       "      <td>50</td>\n",
       "      <td>45771</td>\n",
       "      <td>23343</td>\n",
       "      <td>0</td>\n",
       "      <td>3400</td>\n",
       "      <td>2769</td>\n",
       "      <td>...</td>\n",
       "      <td>2769</td>\n",
       "      <td>1700</td>\n",
       "      <td>0</td>\n",
       "      <td>0</td>\n",
       "      <td>0</td>\n",
       "      <td>0</td>\n",
       "      <td>0</td>\n",
       "      <td>0</td>\n",
       "      <td>0</td>\n",
       "      <td>0</td>\n",
       "    </tr>\n",
       "    <tr>\n",
       "      <th>1</th>\n",
       "      <td>200000</td>\n",
       "      <td>2</td>\n",
       "      <td>3</td>\n",
       "      <td>3</td>\n",
       "      <td>45</td>\n",
       "      <td>399</td>\n",
       "      <td>2430</td>\n",
       "      <td>0</td>\n",
       "      <td>399</td>\n",
       "      <td>1396</td>\n",
       "      <td>...</td>\n",
       "      <td>1396</td>\n",
       "      <td>0</td>\n",
       "      <td>0</td>\n",
       "      <td>0</td>\n",
       "      <td>0</td>\n",
       "      <td>0</td>\n",
       "      <td>0</td>\n",
       "      <td>0</td>\n",
       "      <td>0</td>\n",
       "      <td>0</td>\n",
       "    </tr>\n",
       "    <tr>\n",
       "      <th>2</th>\n",
       "      <td>130000</td>\n",
       "      <td>1</td>\n",
       "      <td>1</td>\n",
       "      <td>1</td>\n",
       "      <td>45</td>\n",
       "      <td>58180</td>\n",
       "      <td>59134</td>\n",
       "      <td>61156</td>\n",
       "      <td>62377</td>\n",
       "      <td>63832</td>\n",
       "      <td>...</td>\n",
       "      <td>2354</td>\n",
       "      <td>2366</td>\n",
       "      <td>2291</td>\n",
       "      <td>0</td>\n",
       "      <td>0</td>\n",
       "      <td>0</td>\n",
       "      <td>0</td>\n",
       "      <td>0</td>\n",
       "      <td>0</td>\n",
       "      <td>0</td>\n",
       "    </tr>\n",
       "    <tr>\n",
       "      <th>3</th>\n",
       "      <td>230000</td>\n",
       "      <td>1</td>\n",
       "      <td>2</td>\n",
       "      <td>1</td>\n",
       "      <td>41</td>\n",
       "      <td>301038</td>\n",
       "      <td>305327</td>\n",
       "      <td>213058</td>\n",
       "      <td>216260</td>\n",
       "      <td>215968</td>\n",
       "      <td>...</td>\n",
       "      <td>8030</td>\n",
       "      <td>6549</td>\n",
       "      <td>5226</td>\n",
       "      <td>1</td>\n",
       "      <td>0</td>\n",
       "      <td>0</td>\n",
       "      <td>0</td>\n",
       "      <td>0</td>\n",
       "      <td>0</td>\n",
       "      <td>0</td>\n",
       "    </tr>\n",
       "    <tr>\n",
       "      <th>4</th>\n",
       "      <td>50000</td>\n",
       "      <td>1</td>\n",
       "      <td>2</td>\n",
       "      <td>1</td>\n",
       "      <td>42</td>\n",
       "      <td>35892</td>\n",
       "      <td>32546</td>\n",
       "      <td>30660</td>\n",
       "      <td>31320</td>\n",
       "      <td>36227</td>\n",
       "      <td>...</td>\n",
       "      <td>5400</td>\n",
       "      <td>0</td>\n",
       "      <td>3000</td>\n",
       "      <td>0</td>\n",
       "      <td>0</td>\n",
       "      <td>0</td>\n",
       "      <td>0</td>\n",
       "      <td>0</td>\n",
       "      <td>0</td>\n",
       "      <td>2</td>\n",
       "    </tr>\n",
       "  </tbody>\n",
       "</table>\n",
       "<p>5 rows × 24 columns</p>\n",
       "</div>"
      ],
      "text/plain": [
       "   limit_balance  sex  education_level  marital_status  age  bill_amt_1  \\\n",
       "0          50000    1                3               3   50       45771   \n",
       "1         200000    2                3               3   45         399   \n",
       "2         130000    1                1               1   45       58180   \n",
       "3         230000    1                2               1   41      301038   \n",
       "4          50000    1                2               1   42       35892   \n",
       "\n",
       "   bill_amt_2  bill_amt_3  bill_amt_4  bill_amt_5  ...  pay_amt_4  pay_amt_5  \\\n",
       "0       23343           0        3400        2769  ...       2769       1700   \n",
       "1        2430           0         399        1396  ...       1396          0   \n",
       "2       59134       61156       62377       63832  ...       2354       2366   \n",
       "3      305327      213058      216260      215968  ...       8030       6549   \n",
       "4       32546       30660       31320       36227  ...       5400          0   \n",
       "\n",
       "   pay_amt_6  default_payment  pay_1  pay_2  pay_3  pay_4  pay_5  pay_6  \n",
       "0          0                0      0      0      0      0      0      0  \n",
       "1          0                0      0      0      0      0      0      0  \n",
       "2       2291                0      0      0      0      0      0      0  \n",
       "3       5226                1      0      0      0      0      0      0  \n",
       "4       3000                0      0      0      0      0      0      2  \n",
       "\n",
       "[5 rows x 24 columns]"
      ]
     },
     "execution_count": 22,
     "metadata": {},
     "output_type": "execute_result"
    }
   ],
   "source": [
    "df = pd.concat([df.reset_index(drop=True),df_pay.reset_index(drop=True)], axis=1)\n",
    "df.head()"
   ]
  },
  {
   "cell_type": "markdown",
   "metadata": {},
   "source": [
    "After done the concat, it means that repayment status columns is replaced with the new variable (df_pay). Which also means that these columns does not have too many cardinality anymore."
   ]
  },
  {
   "cell_type": "markdown",
   "metadata": {},
   "source": [
    "## iv. Exploratory Data Analysis (EDA)"
   ]
  },
  {
   "cell_type": "code",
   "execution_count": 23,
   "metadata": {},
   "outputs": [
    {
     "data": {
      "text/plain": [
       "0    2329\n",
       "1     635\n",
       "Name: default_payment, dtype: int64"
      ]
     },
     "execution_count": 23,
     "metadata": {},
     "output_type": "execute_result"
    },
    {
     "data": {
      "image/png": "[encoded data removed]",
      "text/plain": [
       "<Figure size 720x360 with 1 Axes>"
      ]
     },
     "metadata": {
      "needs_background": "light"
     },
     "output_type": "display_data"
    }
   ],
   "source": [
    "plt.figure(figsize=(10,5))\n",
    "sns.countplot(x = 'default_payment', data = df)\n",
    "df['default_payment'].value_counts()"
   ]
  },
  {
   "cell_type": "markdown",
   "metadata": {},
   "source": [
    "Based on the plot that is showing the graphic of comparison between total data of both classes, we can tell that we have imbalanced dataset."
   ]
  },
  {
   "cell_type": "markdown",
   "metadata": {},
   "source": [
    "---"
   ]
  },
  {
   "cell_type": "markdown",
   "metadata": {},
   "source": [
    "#### Plotting Categorical Features"
   ]
  },
  {
   "cell_type": "code",
   "execution_count": 24,
   "metadata": {},
   "outputs": [],
   "source": [
    "cat_features = ['sex', 'education_level', 'marital_status']"
   ]
  },
  {
   "cell_type": "markdown",
   "metadata": {},
   "source": [
    "I defined categorical columns from the dataset which are sex, education_level and marital_status columns as cat_features"
   ]
  },
  {
   "cell_type": "code",
   "execution_count": 25,
   "metadata": {},
   "outputs": [],
   "source": [
    "df_copy = df.copy()\n",
    "df_cat = df_copy[cat_features]\n",
    "df_cat['default_payment'] = df_copy['default_payment']"
   ]
  },
  {
   "cell_type": "code",
   "execution_count": 26,
   "metadata": {},
   "outputs": [],
   "source": [
    "df_cat.replace({'sex': {1 : 'male', 2 : 'female'}, 'education_level' : {1 : 'graduate school', 2 : 'university', 3 : 'high school', 4 : 'others'}, 'marital_status' : {1 : 'married', 2 : 'single', 3 : 'others'}}, inplace = True)"
   ]
  },
  {
   "cell_type": "markdown",
   "metadata": {},
   "source": [
    "I rename the value in sex and education_level columns from number type to string, so it's going to be easier for me to analyze the plotting that I'm going to make."
   ]
  },
  {
   "cell_type": "code",
   "execution_count": 27,
   "metadata": {},
   "outputs": [],
   "source": [
    "for col in ['sex', 'education_level', 'marital_status' ]:\n",
    "    df_cat[col] = df_cat[col].astype('category')"
   ]
  },
  {
   "cell_type": "markdown",
   "metadata": {},
   "source": [
    "I also changed the datatype to category to make it easier to differentiate."
   ]
  },
  {
   "cell_type": "code",
   "execution_count": 28,
   "metadata": {},
   "outputs": [
    {
     "data": {
      "text/plain": [
       "<Figure size 720x360 with 0 Axes>"
      ]
     },
     "metadata": {},
     "output_type": "display_data"
    },
    {
     "data": {
      "image/png": "[encoded data removed]",
      "text/plain": [
       "<Figure size 936x576 with 2 Axes>"
      ]
     },
     "metadata": {
      "needs_background": "light"
     },
     "output_type": "display_data"
    },
    {
     "data": {
      "text/plain": [
       "<Figure size 720x360 with 0 Axes>"
      ]
     },
     "metadata": {},
     "output_type": "display_data"
    },
    {
     "data": {
      "image/png": "[encoded data removed]",
      "text/plain": [
       "<Figure size 936x576 with 2 Axes>"
      ]
     },
     "metadata": {
      "needs_background": "light"
     },
     "output_type": "display_data"
    },
    {
     "data": {
      "text/plain": [
       "<Figure size 720x360 with 0 Axes>"
      ]
     },
     "metadata": {},
     "output_type": "display_data"
    },
    {
     "data": {
      "image/png": "[encoded data removed]",
      "text/plain": [
       "<Figure size 936x576 with 2 Axes>"
      ]
     },
     "metadata": {
      "needs_background": "light"
     },
     "output_type": "display_data"
    }
   ],
   "source": [
    "for col in cat_features:\n",
    "  plt.figure(figsize=(10,5))\n",
    "  fig, axes = plt.subplots(ncols=2,figsize=(13,8))\n",
    "  df_cat[col].value_counts().plot(kind=\"pie\",ax = axes[0],subplots=True)\n",
    "  sns.countplot(x = col, hue = 'default_payment', data = df_cat)"
   ]
  },
  {
   "cell_type": "markdown",
   "metadata": {},
   "source": [
    "After done a few observation by displaying countplot chart from categorical columns towards default_payment value, we can see that:\n",
    "- Credit card owner dominated by female. So it's understandable if the proportional value of female is higher than male.\n",
    "- The highest total number based on the education level is university people, so that they have the highest proportional value compared to others which has more than a thousand people per-class. So it means, technically, all value has the same proportion towards class 0 and class 1 in default_payment.\n",
    "- People with marital_status single has the most number. But the difference of total between single people and the married one is not significant, it means that both category is equal towards default_payment. \n"
   ]
  },
  {
   "cell_type": "markdown",
   "metadata": {},
   "source": [
    "## v. Data Preprocessing"
   ]
  },
  {
   "cell_type": "markdown",
   "metadata": {},
   "source": [
    "### Splitting Dataset"
   ]
  },
  {
   "cell_type": "markdown",
   "metadata": {},
   "source": [
    "#### Define Data Inference"
   ]
  },
  {
   "cell_type": "code",
   "execution_count": 29,
   "metadata": {},
   "outputs": [
    {
     "data": {
      "text/html": [
       "<div>\n",
       "<style scoped>\n",
       "    .dataframe tbody tr th:only-of-type {\n",
       "        vertical-align: middle;\n",
       "    }\n",
       "\n",
       "    .dataframe tbody tr th {\n",
       "        vertical-align: top;\n",
       "    }\n",
       "\n",
       "    .dataframe thead th {\n",
       "        text-align: right;\n",
       "    }\n",
       "</style>\n",
       "<table border=\"1\" class=\"dataframe\">\n",
       "  <thead>\n",
       "    <tr style=\"text-align: right;\">\n",
       "      <th></th>\n",
       "      <th>limit_balance</th>\n",
       "      <th>sex</th>\n",
       "      <th>education_level</th>\n",
       "      <th>marital_status</th>\n",
       "      <th>age</th>\n",
       "      <th>bill_amt_1</th>\n",
       "      <th>bill_amt_2</th>\n",
       "      <th>bill_amt_3</th>\n",
       "      <th>bill_amt_4</th>\n",
       "      <th>bill_amt_5</th>\n",
       "      <th>...</th>\n",
       "      <th>pay_amt_4</th>\n",
       "      <th>pay_amt_5</th>\n",
       "      <th>pay_amt_6</th>\n",
       "      <th>default_payment</th>\n",
       "      <th>pay_1</th>\n",
       "      <th>pay_2</th>\n",
       "      <th>pay_3</th>\n",
       "      <th>pay_4</th>\n",
       "      <th>pay_5</th>\n",
       "      <th>pay_6</th>\n",
       "    </tr>\n",
       "  </thead>\n",
       "  <tbody>\n",
       "    <tr>\n",
       "      <th>2065</th>\n",
       "      <td>20000</td>\n",
       "      <td>1</td>\n",
       "      <td>2</td>\n",
       "      <td>2</td>\n",
       "      <td>27</td>\n",
       "      <td>0</td>\n",
       "      <td>0</td>\n",
       "      <td>0</td>\n",
       "      <td>0</td>\n",
       "      <td>0</td>\n",
       "      <td>...</td>\n",
       "      <td>0</td>\n",
       "      <td>0</td>\n",
       "      <td>0</td>\n",
       "      <td>1</td>\n",
       "      <td>1</td>\n",
       "      <td>0</td>\n",
       "      <td>0</td>\n",
       "      <td>0</td>\n",
       "      <td>0</td>\n",
       "      <td>0</td>\n",
       "    </tr>\n",
       "    <tr>\n",
       "      <th>2405</th>\n",
       "      <td>80000</td>\n",
       "      <td>1</td>\n",
       "      <td>1</td>\n",
       "      <td>2</td>\n",
       "      <td>29</td>\n",
       "      <td>31637</td>\n",
       "      <td>27137</td>\n",
       "      <td>25986</td>\n",
       "      <td>23496</td>\n",
       "      <td>23601</td>\n",
       "      <td>...</td>\n",
       "      <td>2000</td>\n",
       "      <td>2000</td>\n",
       "      <td>2000</td>\n",
       "      <td>0</td>\n",
       "      <td>0</td>\n",
       "      <td>0</td>\n",
       "      <td>0</td>\n",
       "      <td>0</td>\n",
       "      <td>0</td>\n",
       "      <td>0</td>\n",
       "    </tr>\n",
       "    <tr>\n",
       "      <th>2322</th>\n",
       "      <td>30000</td>\n",
       "      <td>2</td>\n",
       "      <td>3</td>\n",
       "      <td>2</td>\n",
       "      <td>28</td>\n",
       "      <td>25354</td>\n",
       "      <td>24826</td>\n",
       "      <td>25412</td>\n",
       "      <td>21658</td>\n",
       "      <td>980</td>\n",
       "      <td>...</td>\n",
       "      <td>1000</td>\n",
       "      <td>55</td>\n",
       "      <td>0</td>\n",
       "      <td>0</td>\n",
       "      <td>0</td>\n",
       "      <td>0</td>\n",
       "      <td>0</td>\n",
       "      <td>0</td>\n",
       "      <td>0</td>\n",
       "      <td>0</td>\n",
       "    </tr>\n",
       "    <tr>\n",
       "      <th>1490</th>\n",
       "      <td>620000</td>\n",
       "      <td>2</td>\n",
       "      <td>1</td>\n",
       "      <td>2</td>\n",
       "      <td>38</td>\n",
       "      <td>12136</td>\n",
       "      <td>7938</td>\n",
       "      <td>620</td>\n",
       "      <td>16022</td>\n",
       "      <td>2581</td>\n",
       "      <td>...</td>\n",
       "      <td>2856</td>\n",
       "      <td>4197</td>\n",
       "      <td>920</td>\n",
       "      <td>0</td>\n",
       "      <td>0</td>\n",
       "      <td>0</td>\n",
       "      <td>0</td>\n",
       "      <td>0</td>\n",
       "      <td>0</td>\n",
       "      <td>0</td>\n",
       "    </tr>\n",
       "    <tr>\n",
       "      <th>2648</th>\n",
       "      <td>120000</td>\n",
       "      <td>2</td>\n",
       "      <td>2</td>\n",
       "      <td>1</td>\n",
       "      <td>28</td>\n",
       "      <td>60188</td>\n",
       "      <td>58467</td>\n",
       "      <td>59760</td>\n",
       "      <td>60990</td>\n",
       "      <td>61960</td>\n",
       "      <td>...</td>\n",
       "      <td>3000</td>\n",
       "      <td>5000</td>\n",
       "      <td>0</td>\n",
       "      <td>1</td>\n",
       "      <td>1</td>\n",
       "      <td>2</td>\n",
       "      <td>0</td>\n",
       "      <td>0</td>\n",
       "      <td>0</td>\n",
       "      <td>0</td>\n",
       "    </tr>\n",
       "  </tbody>\n",
       "</table>\n",
       "<p>5 rows × 24 columns</p>\n",
       "</div>"
      ],
      "text/plain": [
       "      limit_balance  sex  education_level  marital_status  age  bill_amt_1  \\\n",
       "2065          20000    1                2               2   27           0   \n",
       "2405          80000    1                1               2   29       31637   \n",
       "2322          30000    2                3               2   28       25354   \n",
       "1490         620000    2                1               2   38       12136   \n",
       "2648         120000    2                2               1   28       60188   \n",
       "\n",
       "      bill_amt_2  bill_amt_3  bill_amt_4  bill_amt_5  ...  pay_amt_4  \\\n",
       "2065           0           0           0           0  ...          0   \n",
       "2405       27137       25986       23496       23601  ...       2000   \n",
       "2322       24826       25412       21658         980  ...       1000   \n",
       "1490        7938         620       16022        2581  ...       2856   \n",
       "2648       58467       59760       60990       61960  ...       3000   \n",
       "\n",
       "      pay_amt_5  pay_amt_6  default_payment  pay_1  pay_2  pay_3  pay_4  \\\n",
       "2065          0          0                1      1      0      0      0   \n",
       "2405       2000       2000                0      0      0      0      0   \n",
       "2322         55          0                0      0      0      0      0   \n",
       "1490       4197        920                0      0      0      0      0   \n",
       "2648       5000          0                1      1      2      0      0   \n",
       "\n",
       "      pay_5  pay_6  \n",
       "2065      0      0  \n",
       "2405      0      0  \n",
       "2322      0      0  \n",
       "1490      0      0  \n",
       "2648      0      0  \n",
       "\n",
       "[5 rows x 24 columns]"
      ]
     },
     "execution_count": 29,
     "metadata": {},
     "output_type": "execute_result"
    }
   ],
   "source": [
    "df_inf = df.sample(5, random_state=24)\n",
    "df_inf"
   ]
  },
  {
   "cell_type": "markdown",
   "metadata": {},
   "source": [
    "Define the data inference by taking 5 rows of data from the dataset. "
   ]
  },
  {
   "cell_type": "code",
   "execution_count": 30,
   "metadata": {},
   "outputs": [],
   "source": [
    "df.drop(df_inf.index, inplace=True)"
   ]
  },
  {
   "cell_type": "markdown",
   "metadata": {},
   "source": [
    "After define the data inference, the next step is to drop the data inference from dataset."
   ]
  },
  {
   "cell_type": "code",
   "execution_count": 31,
   "metadata": {},
   "outputs": [],
   "source": [
    "df.reset_index(drop=True, inplace=True)\n",
    "df_inf.reset_index(drop=True, inplace=True)"
   ]
  },
  {
   "cell_type": "markdown",
   "metadata": {},
   "source": [
    "#### Define Features and Target"
   ]
  },
  {
   "cell_type": "code",
   "execution_count": 32,
   "metadata": {},
   "outputs": [
    {
     "data": {
      "text/html": [
       "<div>\n",
       "<style scoped>\n",
       "    .dataframe tbody tr th:only-of-type {\n",
       "        vertical-align: middle;\n",
       "    }\n",
       "\n",
       "    .dataframe tbody tr th {\n",
       "        vertical-align: top;\n",
       "    }\n",
       "\n",
       "    .dataframe thead th {\n",
       "        text-align: right;\n",
       "    }\n",
       "</style>\n",
       "<table border=\"1\" class=\"dataframe\">\n",
       "  <thead>\n",
       "    <tr style=\"text-align: right;\">\n",
       "      <th></th>\n",
       "      <th>limit_balance</th>\n",
       "      <th>sex</th>\n",
       "      <th>education_level</th>\n",
       "      <th>marital_status</th>\n",
       "      <th>age</th>\n",
       "      <th>bill_amt_1</th>\n",
       "      <th>bill_amt_2</th>\n",
       "      <th>bill_amt_3</th>\n",
       "      <th>bill_amt_4</th>\n",
       "      <th>bill_amt_5</th>\n",
       "      <th>...</th>\n",
       "      <th>pay_amt_3</th>\n",
       "      <th>pay_amt_4</th>\n",
       "      <th>pay_amt_5</th>\n",
       "      <th>pay_amt_6</th>\n",
       "      <th>pay_1</th>\n",
       "      <th>pay_2</th>\n",
       "      <th>pay_3</th>\n",
       "      <th>pay_4</th>\n",
       "      <th>pay_5</th>\n",
       "      <th>pay_6</th>\n",
       "    </tr>\n",
       "  </thead>\n",
       "  <tbody>\n",
       "    <tr>\n",
       "      <th>0</th>\n",
       "      <td>50000</td>\n",
       "      <td>1</td>\n",
       "      <td>3</td>\n",
       "      <td>3</td>\n",
       "      <td>50</td>\n",
       "      <td>45771</td>\n",
       "      <td>23343</td>\n",
       "      <td>0</td>\n",
       "      <td>3400</td>\n",
       "      <td>2769</td>\n",
       "      <td>...</td>\n",
       "      <td>3400</td>\n",
       "      <td>2769</td>\n",
       "      <td>1700</td>\n",
       "      <td>0</td>\n",
       "      <td>0</td>\n",
       "      <td>0</td>\n",
       "      <td>0</td>\n",
       "      <td>0</td>\n",
       "      <td>0</td>\n",
       "      <td>0</td>\n",
       "    </tr>\n",
       "    <tr>\n",
       "      <th>1</th>\n",
       "      <td>200000</td>\n",
       "      <td>2</td>\n",
       "      <td>3</td>\n",
       "      <td>3</td>\n",
       "      <td>45</td>\n",
       "      <td>399</td>\n",
       "      <td>2430</td>\n",
       "      <td>0</td>\n",
       "      <td>399</td>\n",
       "      <td>1396</td>\n",
       "      <td>...</td>\n",
       "      <td>399</td>\n",
       "      <td>1396</td>\n",
       "      <td>0</td>\n",
       "      <td>0</td>\n",
       "      <td>0</td>\n",
       "      <td>0</td>\n",
       "      <td>0</td>\n",
       "      <td>0</td>\n",
       "      <td>0</td>\n",
       "      <td>0</td>\n",
       "    </tr>\n",
       "  </tbody>\n",
       "</table>\n",
       "<p>2 rows × 23 columns</p>\n",
       "</div>"
      ],
      "text/plain": [
       "   limit_balance  sex  education_level  marital_status  age  bill_amt_1  \\\n",
       "0          50000    1                3               3   50       45771   \n",
       "1         200000    2                3               3   45         399   \n",
       "\n",
       "   bill_amt_2  bill_amt_3  bill_amt_4  bill_amt_5  ...  pay_amt_3  pay_amt_4  \\\n",
       "0       23343           0        3400        2769  ...       3400       2769   \n",
       "1        2430           0         399        1396  ...        399       1396   \n",
       "\n",
       "   pay_amt_5  pay_amt_6  pay_1  pay_2  pay_3  pay_4  pay_5  pay_6  \n",
       "0       1700          0      0      0      0      0      0      0  \n",
       "1          0          0      0      0      0      0      0      0  \n",
       "\n",
       "[2 rows x 23 columns]"
      ]
     },
     "execution_count": 32,
     "metadata": {},
     "output_type": "execute_result"
    }
   ],
   "source": [
    "x = df.drop('default_payment', axis=1)\n",
    "y = df['default_payment']\n",
    "\n",
    "x.head(2)"
   ]
  },
  {
   "cell_type": "markdown",
   "metadata": {},
   "source": [
    "After done doing EDA and changed some datas. We split the data to define which columns that is going to be used as features and which columns that is going to be used as target. In this case, I use default_payment as the target."
   ]
  },
  {
   "cell_type": "markdown",
   "metadata": {},
   "source": [
    "#### Split the Train-set - Test-set Data"
   ]
  },
  {
   "cell_type": "code",
   "execution_count": 33,
   "metadata": {},
   "outputs": [
    {
     "name": "stdout",
     "output_type": "stream",
     "text": [
      "Train Size :  (2367, 23)\n",
      "Test Size :  (592, 23)\n"
     ]
    }
   ],
   "source": [
    "#Split between Train-Set and Test-Set\n",
    "\n",
    "x_train, x_test, y_train, y_test = train_test_split(x, y, test_size=0.2, random_state=24)\n",
    "\n",
    "print(\"Train Size : \", x_train.shape)\n",
    "print(\"Test Size : \", x_test.shape)"
   ]
  },
  {
   "cell_type": "markdown",
   "metadata": {},
   "source": [
    "After defined the columns usage on features and target, the next step is splitting the data to divide train set and test set data. I use 80% data as train set data and 20% data as test set data. And got train shape with total 2367 data, and test shape with total 592 data."
   ]
  },
  {
   "cell_type": "code",
   "execution_count": 34,
   "metadata": {},
   "outputs": [
    {
     "data": {
      "text/plain": [
       "(2367, 24)"
      ]
     },
     "execution_count": 34,
     "metadata": {},
     "output_type": "execute_result"
    }
   ],
   "source": [
    "df_eda = pd.concat([x_train, y_train], axis=1)\n",
    "df_eda.shape"
   ]
  },
  {
   "cell_type": "markdown",
   "metadata": {},
   "source": [
    "Before analyzing to the next step and handing the train set. I define a variable of concatenate between x_train and y_train for better convenience."
   ]
  },
  {
   "cell_type": "code",
   "execution_count": 35,
   "metadata": {},
   "outputs": [
    {
     "name": "stdout",
     "output_type": "stream",
     "text": [
      "Shape of Dataset :  (2367, 24)\n",
      "\n",
      "Col :  limit_balance\n",
      "Length Unique Value :  56\n",
      "\n",
      "Col :  sex\n",
      "Length Unique Value :  2\n",
      "\n",
      "Col :  education_level\n",
      "Length Unique Value :  4\n",
      "\n",
      "Col :  marital_status\n",
      "Length Unique Value :  3\n",
      "\n",
      "Col :  age\n",
      "Length Unique Value :  48\n",
      "\n",
      "Col :  bill_amt_1\n",
      "Length Unique Value :  2114\n",
      "\n",
      "Col :  bill_amt_2\n",
      "Length Unique Value :  2070\n",
      "\n",
      "Col :  bill_amt_3\n",
      "Length Unique Value :  2042\n",
      "\n",
      "Col :  bill_amt_4\n",
      "Length Unique Value :  2010\n",
      "\n",
      "Col :  bill_amt_5\n",
      "Length Unique Value :  1990\n",
      "\n",
      "Col :  bill_amt_6\n",
      "Length Unique Value :  1965\n",
      "\n",
      "Col :  pay_amt_1\n",
      "Length Unique Value :  1153\n",
      "\n",
      "Col :  pay_amt_2\n",
      "Length Unique Value :  1110\n",
      "\n",
      "Col :  pay_amt_3\n",
      "Length Unique Value :  1054\n",
      "\n",
      "Col :  pay_amt_4\n",
      "Length Unique Value :  988\n",
      "\n",
      "Col :  pay_amt_5\n",
      "Length Unique Value :  980\n",
      "\n",
      "Col :  pay_amt_6\n",
      "Length Unique Value :  954\n",
      "\n",
      "Col :  pay_1\n",
      "Length Unique Value :  4\n",
      "\n",
      "Col :  pay_2\n",
      "Length Unique Value :  4\n",
      "\n",
      "Col :  pay_3\n",
      "Length Unique Value :  3\n",
      "\n",
      "Col :  pay_4\n",
      "Length Unique Value :  3\n",
      "\n",
      "Col :  pay_5\n",
      "Length Unique Value :  3\n",
      "\n",
      "Col :  pay_6\n",
      "Length Unique Value :  3\n",
      "\n",
      "Col :  default_payment\n",
      "Length Unique Value :  2\n",
      "\n"
     ]
    }
   ],
   "source": [
    "#Cardinality Check\n",
    "\n",
    "print('Shape of Dataset : ', df_eda.shape)\n",
    "print('')\n",
    "\n",
    "for col in df_eda.columns.tolist():\n",
    "  print('Col : ', col)\n",
    "  print('Length Unique Value : ', df_eda[col].nunique())\n",
    "  print('')"
   ]
  },
  {
   "cell_type": "markdown",
   "metadata": {},
   "source": [
    "By looking at the amount of total unique value, we can tell that columns that have more than 5 unique value is numerical columns and columns that equal and less than equal 5 is categorical columns.\n",
    "\n",
    "In this data, we can see that there are 10 categorical columns and 14 numerical columns."
   ]
  },
  {
   "cell_type": "markdown",
   "metadata": {},
   "source": [
    "##### Splitting Numerical Columns and Categorical Columns"
   ]
  },
  {
   "cell_type": "code",
   "execution_count": 36,
   "metadata": {},
   "outputs": [],
   "source": [
    "num_col = ['limit_balance', 'age', 'bill_amt_1', 'bill_amt_2', 'bill_amt_3', 'bill_amt_4', 'bill_amt_5', 'bill_amt_6', 'pay_amt_1', 'pay_amt_2', 'pay_amt_3', 'pay_amt_4', 'pay_amt_5', 'pay_amt_6']\n",
    "cat_col = ['sex', 'education_level', 'marital_status', 'pay_1', 'pay_2', 'pay_3', 'pay_4', 'pay_5', 'pay_6', 'default_payment']"
   ]
  },
  {
   "cell_type": "markdown",
   "metadata": {},
   "source": [
    "After decided which columns is going to be used as numerical and categorical, the next step is splitting it into two different variables. In here, I use num_col as numerical columns, and cat_col as categorical columns."
   ]
  },
  {
   "cell_type": "markdown",
   "metadata": {},
   "source": [
    "#### Categorical Features"
   ]
  },
  {
   "cell_type": "markdown",
   "metadata": {},
   "source": [
    "In this part, I want to analyze the categorical features to identify which columns are the best to use. "
   ]
  },
  {
   "cell_type": "code",
   "execution_count": 37,
   "metadata": {},
   "outputs": [
    {
     "data": {
      "text/html": [
       "<div>\n",
       "<style scoped>\n",
       "    .dataframe tbody tr th:only-of-type {\n",
       "        vertical-align: middle;\n",
       "    }\n",
       "\n",
       "    .dataframe tbody tr th {\n",
       "        vertical-align: top;\n",
       "    }\n",
       "\n",
       "    .dataframe thead th {\n",
       "        text-align: right;\n",
       "    }\n",
       "</style>\n",
       "<table border=\"1\" class=\"dataframe\">\n",
       "  <thead>\n",
       "    <tr style=\"text-align: right;\">\n",
       "      <th></th>\n",
       "      <th>sex</th>\n",
       "      <th>education_level</th>\n",
       "      <th>marital_status</th>\n",
       "      <th>pay_1</th>\n",
       "      <th>pay_2</th>\n",
       "      <th>pay_3</th>\n",
       "      <th>pay_4</th>\n",
       "      <th>pay_5</th>\n",
       "      <th>pay_6</th>\n",
       "      <th>default_payment</th>\n",
       "    </tr>\n",
       "  </thead>\n",
       "  <tbody>\n",
       "    <tr>\n",
       "      <th>1386</th>\n",
       "      <td>2</td>\n",
       "      <td>1</td>\n",
       "      <td>2</td>\n",
       "      <td>0</td>\n",
       "      <td>0</td>\n",
       "      <td>0</td>\n",
       "      <td>0</td>\n",
       "      <td>0</td>\n",
       "      <td>0</td>\n",
       "      <td>0</td>\n",
       "    </tr>\n",
       "    <tr>\n",
       "      <th>40</th>\n",
       "      <td>1</td>\n",
       "      <td>1</td>\n",
       "      <td>1</td>\n",
       "      <td>2</td>\n",
       "      <td>0</td>\n",
       "      <td>0</td>\n",
       "      <td>0</td>\n",
       "      <td>0</td>\n",
       "      <td>0</td>\n",
       "      <td>1</td>\n",
       "    </tr>\n",
       "    <tr>\n",
       "      <th>743</th>\n",
       "      <td>2</td>\n",
       "      <td>2</td>\n",
       "      <td>2</td>\n",
       "      <td>0</td>\n",
       "      <td>0</td>\n",
       "      <td>2</td>\n",
       "      <td>2</td>\n",
       "      <td>0</td>\n",
       "      <td>0</td>\n",
       "      <td>0</td>\n",
       "    </tr>\n",
       "    <tr>\n",
       "      <th>2001</th>\n",
       "      <td>2</td>\n",
       "      <td>1</td>\n",
       "      <td>2</td>\n",
       "      <td>3</td>\n",
       "      <td>2</td>\n",
       "      <td>2</td>\n",
       "      <td>3</td>\n",
       "      <td>3</td>\n",
       "      <td>3</td>\n",
       "      <td>1</td>\n",
       "    </tr>\n",
       "    <tr>\n",
       "      <th>2143</th>\n",
       "      <td>1</td>\n",
       "      <td>4</td>\n",
       "      <td>2</td>\n",
       "      <td>0</td>\n",
       "      <td>0</td>\n",
       "      <td>0</td>\n",
       "      <td>0</td>\n",
       "      <td>0</td>\n",
       "      <td>0</td>\n",
       "      <td>0</td>\n",
       "    </tr>\n",
       "  </tbody>\n",
       "</table>\n",
       "</div>"
      ],
      "text/plain": [
       "      sex  education_level  marital_status  pay_1  pay_2  pay_3  pay_4  pay_5  \\\n",
       "1386    2                1               2      0      0      0      0      0   \n",
       "40      1                1               1      2      0      0      0      0   \n",
       "743     2                2               2      0      0      2      2      0   \n",
       "2001    2                1               2      3      2      2      3      3   \n",
       "2143    1                4               2      0      0      0      0      0   \n",
       "\n",
       "      pay_6  default_payment  \n",
       "1386      0                0  \n",
       "40        0                1  \n",
       "743       0                0  \n",
       "2001      3                1  \n",
       "2143      0                0  "
      ]
     },
     "execution_count": 37,
     "metadata": {},
     "output_type": "execute_result"
    }
   ],
   "source": [
    "data_cat = df_eda[cat_col]\n",
    "data_cat.head()"
   ]
  },
  {
   "cell_type": "code",
   "execution_count": 38,
   "metadata": {},
   "outputs": [
    {
     "data": {
      "image/png": "[encoded data removed]",
      "text/plain": [
       "<Figure size 1440x720 with 2 Axes>"
      ]
     },
     "metadata": {
      "needs_background": "light"
     },
     "output_type": "display_data"
    }
   ],
   "source": [
    "fig,ax = plt.subplots(figsize=[20,10])\n",
    "\n",
    "corr = data_cat.corr()\n",
    "\n",
    "ax = sns.heatmap(corr,annot=True)\n",
    "plt.show()"
   ]
  },
  {
   "cell_type": "markdown",
   "metadata": {},
   "source": [
    "Based on the heatmap plot above, we can see that columns that have correlation with default_payment are pay_1, pay_2, pay_3, pay_4, pay_5, pay_6. Because the correlation value from those columns are either equal or more than 0.3 while other columns are less than 0.1. So I will use those features which have correlation equal and more than 0.3.\n",
    "\n",
    "After deciding which features is going to be used, the next step is checking the collinearity value between those columns. In case there are multicollinearities."
   ]
  },
  {
   "cell_type": "markdown",
   "metadata": {},
   "source": [
    "#### VIF"
   ]
  },
  {
   "cell_type": "code",
   "execution_count": 39,
   "metadata": {},
   "outputs": [],
   "source": [
    "def calc_vif(X):\n",
    "\n",
    "    # Calculating VIF\n",
    "    vif = pd.DataFrame()\n",
    "    vif[\"variables\"] = X.columns\n",
    "    vif[\"VIF\"] = [variance_inflation_factor(X.values, i) for i in range(X.shape[1])]\n",
    "\n",
    "    return(vif)"
   ]
  },
  {
   "cell_type": "code",
   "execution_count": 40,
   "metadata": {},
   "outputs": [
    {
     "data": {
      "text/html": [
       "<div>\n",
       "<style scoped>\n",
       "    .dataframe tbody tr th:only-of-type {\n",
       "        vertical-align: middle;\n",
       "    }\n",
       "\n",
       "    .dataframe tbody tr th {\n",
       "        vertical-align: top;\n",
       "    }\n",
       "\n",
       "    .dataframe thead th {\n",
       "        text-align: right;\n",
       "    }\n",
       "</style>\n",
       "<table border=\"1\" class=\"dataframe\">\n",
       "  <thead>\n",
       "    <tr style=\"text-align: right;\">\n",
       "      <th></th>\n",
       "      <th>variables</th>\n",
       "      <th>VIF</th>\n",
       "    </tr>\n",
       "  </thead>\n",
       "  <tbody>\n",
       "    <tr>\n",
       "      <th>0</th>\n",
       "      <td>pay_1</td>\n",
       "      <td>2.319504</td>\n",
       "    </tr>\n",
       "    <tr>\n",
       "      <th>1</th>\n",
       "      <td>pay_2</td>\n",
       "      <td>2.914842</td>\n",
       "    </tr>\n",
       "    <tr>\n",
       "      <th>2</th>\n",
       "      <td>pay_3</td>\n",
       "      <td>2.512243</td>\n",
       "    </tr>\n",
       "    <tr>\n",
       "      <th>3</th>\n",
       "      <td>pay_4</td>\n",
       "      <td>2.649283</td>\n",
       "    </tr>\n",
       "    <tr>\n",
       "      <th>4</th>\n",
       "      <td>pay_5</td>\n",
       "      <td>2.966055</td>\n",
       "    </tr>\n",
       "    <tr>\n",
       "      <th>5</th>\n",
       "      <td>pay_6</td>\n",
       "      <td>2.236091</td>\n",
       "    </tr>\n",
       "  </tbody>\n",
       "</table>\n",
       "</div>"
      ],
      "text/plain": [
       "  variables       VIF\n",
       "0     pay_1  2.319504\n",
       "1     pay_2  2.914842\n",
       "2     pay_3  2.512243\n",
       "3     pay_4  2.649283\n",
       "4     pay_5  2.966055\n",
       "5     pay_6  2.236091"
      ]
     },
     "execution_count": 40,
     "metadata": {},
     "output_type": "execute_result"
    }
   ],
   "source": [
    "X = data_cat.iloc[:,3:9]\n",
    "calc_vif(X)"
   ]
  },
  {
   "cell_type": "markdown",
   "metadata": {},
   "source": [
    "Based on the multicollinearity value using VIF method above, we can say that each feature does not have correlation with one another. It means that we can use these columns for further analysis as cat_col_final."
   ]
  },
  {
   "cell_type": "code",
   "execution_count": 41,
   "metadata": {},
   "outputs": [
    {
     "data": {
      "text/html": [
       "<div>\n",
       "<style scoped>\n",
       "    .dataframe tbody tr th:only-of-type {\n",
       "        vertical-align: middle;\n",
       "    }\n",
       "\n",
       "    .dataframe tbody tr th {\n",
       "        vertical-align: top;\n",
       "    }\n",
       "\n",
       "    .dataframe thead th {\n",
       "        text-align: right;\n",
       "    }\n",
       "</style>\n",
       "<table border=\"1\" class=\"dataframe\">\n",
       "  <thead>\n",
       "    <tr style=\"text-align: right;\">\n",
       "      <th></th>\n",
       "      <th>pay_1</th>\n",
       "      <th>pay_2</th>\n",
       "      <th>pay_3</th>\n",
       "      <th>pay_4</th>\n",
       "      <th>pay_5</th>\n",
       "      <th>pay_6</th>\n",
       "      <th>default_payment</th>\n",
       "    </tr>\n",
       "  </thead>\n",
       "  <tbody>\n",
       "    <tr>\n",
       "      <th>1386</th>\n",
       "      <td>0</td>\n",
       "      <td>0</td>\n",
       "      <td>0</td>\n",
       "      <td>0</td>\n",
       "      <td>0</td>\n",
       "      <td>0</td>\n",
       "      <td>0</td>\n",
       "    </tr>\n",
       "    <tr>\n",
       "      <th>40</th>\n",
       "      <td>2</td>\n",
       "      <td>0</td>\n",
       "      <td>0</td>\n",
       "      <td>0</td>\n",
       "      <td>0</td>\n",
       "      <td>0</td>\n",
       "      <td>1</td>\n",
       "    </tr>\n",
       "    <tr>\n",
       "      <th>743</th>\n",
       "      <td>0</td>\n",
       "      <td>0</td>\n",
       "      <td>2</td>\n",
       "      <td>2</td>\n",
       "      <td>0</td>\n",
       "      <td>0</td>\n",
       "      <td>0</td>\n",
       "    </tr>\n",
       "  </tbody>\n",
       "</table>\n",
       "</div>"
      ],
      "text/plain": [
       "      pay_1  pay_2  pay_3  pay_4  pay_5  pay_6  default_payment\n",
       "1386      0      0      0      0      0      0                0\n",
       "40        2      0      0      0      0      0                1\n",
       "743       0      0      2      2      0      0                0"
      ]
     },
     "execution_count": 41,
     "metadata": {},
     "output_type": "execute_result"
    }
   ],
   "source": [
    "cat_col_final = ['pay_1','pay_2','pay_3','pay_4','pay_5','pay_6','default_payment']\n",
    "df_eda[cat_col_final].head(3)"
   ]
  },
  {
   "cell_type": "markdown",
   "metadata": {},
   "source": [
    "#### Numerical Features"
   ]
  },
  {
   "cell_type": "code",
   "execution_count": 42,
   "metadata": {},
   "outputs": [
    {
     "data": {
      "text/html": [
       "<div>\n",
       "<style scoped>\n",
       "    .dataframe tbody tr th:only-of-type {\n",
       "        vertical-align: middle;\n",
       "    }\n",
       "\n",
       "    .dataframe tbody tr th {\n",
       "        vertical-align: top;\n",
       "    }\n",
       "\n",
       "    .dataframe thead th {\n",
       "        text-align: right;\n",
       "    }\n",
       "</style>\n",
       "<table border=\"1\" class=\"dataframe\">\n",
       "  <thead>\n",
       "    <tr style=\"text-align: right;\">\n",
       "      <th></th>\n",
       "      <th>limit_balance</th>\n",
       "      <th>age</th>\n",
       "      <th>bill_amt_1</th>\n",
       "      <th>bill_amt_2</th>\n",
       "      <th>bill_amt_3</th>\n",
       "      <th>bill_amt_4</th>\n",
       "      <th>bill_amt_5</th>\n",
       "      <th>bill_amt_6</th>\n",
       "      <th>pay_amt_1</th>\n",
       "      <th>pay_amt_2</th>\n",
       "      <th>pay_amt_3</th>\n",
       "      <th>pay_amt_4</th>\n",
       "      <th>pay_amt_5</th>\n",
       "      <th>pay_amt_6</th>\n",
       "    </tr>\n",
       "  </thead>\n",
       "  <tbody>\n",
       "    <tr>\n",
       "      <th>1386</th>\n",
       "      <td>250000</td>\n",
       "      <td>33</td>\n",
       "      <td>16317</td>\n",
       "      <td>0</td>\n",
       "      <td>0</td>\n",
       "      <td>188841</td>\n",
       "      <td>194321</td>\n",
       "      <td>198156</td>\n",
       "      <td>0</td>\n",
       "      <td>0</td>\n",
       "      <td>188841</td>\n",
       "      <td>8500</td>\n",
       "      <td>8000</td>\n",
       "      <td>7080</td>\n",
       "    </tr>\n",
       "    <tr>\n",
       "      <th>40</th>\n",
       "      <td>220000</td>\n",
       "      <td>48</td>\n",
       "      <td>210380</td>\n",
       "      <td>213522</td>\n",
       "      <td>201852</td>\n",
       "      <td>169115</td>\n",
       "      <td>172169</td>\n",
       "      <td>162402</td>\n",
       "      <td>10000</td>\n",
       "      <td>9020</td>\n",
       "      <td>6000</td>\n",
       "      <td>5500</td>\n",
       "      <td>6000</td>\n",
       "      <td>5500</td>\n",
       "    </tr>\n",
       "    <tr>\n",
       "      <th>743</th>\n",
       "      <td>140000</td>\n",
       "      <td>36</td>\n",
       "      <td>134783</td>\n",
       "      <td>142708</td>\n",
       "      <td>143475</td>\n",
       "      <td>136331</td>\n",
       "      <td>135778</td>\n",
       "      <td>135910</td>\n",
       "      <td>12800</td>\n",
       "      <td>5000</td>\n",
       "      <td>0</td>\n",
       "      <td>5100</td>\n",
       "      <td>5000</td>\n",
       "      <td>5000</td>\n",
       "    </tr>\n",
       "    <tr>\n",
       "      <th>2001</th>\n",
       "      <td>10000</td>\n",
       "      <td>23</td>\n",
       "      <td>2400</td>\n",
       "      <td>2400</td>\n",
       "      <td>2400</td>\n",
       "      <td>2400</td>\n",
       "      <td>2400</td>\n",
       "      <td>2400</td>\n",
       "      <td>0</td>\n",
       "      <td>0</td>\n",
       "      <td>0</td>\n",
       "      <td>0</td>\n",
       "      <td>0</td>\n",
       "      <td>0</td>\n",
       "    </tr>\n",
       "    <tr>\n",
       "      <th>2143</th>\n",
       "      <td>60000</td>\n",
       "      <td>23</td>\n",
       "      <td>5363</td>\n",
       "      <td>262</td>\n",
       "      <td>-144</td>\n",
       "      <td>450</td>\n",
       "      <td>202</td>\n",
       "      <td>196</td>\n",
       "      <td>1000</td>\n",
       "      <td>0</td>\n",
       "      <td>1000</td>\n",
       "      <td>0</td>\n",
       "      <td>400</td>\n",
       "      <td>300</td>\n",
       "    </tr>\n",
       "  </tbody>\n",
       "</table>\n",
       "</div>"
      ],
      "text/plain": [
       "      limit_balance  age  bill_amt_1  bill_amt_2  bill_amt_3  bill_amt_4  \\\n",
       "1386         250000   33       16317           0           0      188841   \n",
       "40           220000   48      210380      213522      201852      169115   \n",
       "743          140000   36      134783      142708      143475      136331   \n",
       "2001          10000   23        2400        2400        2400        2400   \n",
       "2143          60000   23        5363         262        -144         450   \n",
       "\n",
       "      bill_amt_5  bill_amt_6  pay_amt_1  pay_amt_2  pay_amt_3  pay_amt_4  \\\n",
       "1386      194321      198156          0          0     188841       8500   \n",
       "40        172169      162402      10000       9020       6000       5500   \n",
       "743       135778      135910      12800       5000          0       5100   \n",
       "2001        2400        2400          0          0          0          0   \n",
       "2143         202         196       1000          0       1000          0   \n",
       "\n",
       "      pay_amt_5  pay_amt_6  \n",
       "1386       8000       7080  \n",
       "40         6000       5500  \n",
       "743        5000       5000  \n",
       "2001          0          0  \n",
       "2143        400        300  "
      ]
     },
     "execution_count": 42,
     "metadata": {},
     "output_type": "execute_result"
    }
   ],
   "source": [
    "df_eda[num_col].head()"
   ]
  },
  {
   "cell_type": "markdown",
   "metadata": {},
   "source": [
    "#### Outlier Handling"
   ]
  },
  {
   "cell_type": "code",
   "execution_count": 43,
   "metadata": {},
   "outputs": [
    {
     "data": {
      "image/png": "[encoded data removed]",
      "text/plain": [
       "<Figure size 720x2880 with 14 Axes>"
      ]
     },
     "metadata": {
      "needs_background": "light"
     },
     "output_type": "display_data"
    }
   ],
   "source": [
    "num_col = ['limit_balance', 'age', 'bill_amt_1', 'bill_amt_2', 'bill_amt_3', 'bill_amt_4', 'bill_amt_5', 'bill_amt_6', 'pay_amt_1', 'pay_amt_2', 'pay_amt_3', 'pay_amt_4', 'pay_amt_5', 'pay_amt_6']\n",
    "\n",
    "fig, ax = plt.subplots(nrows=14, figsize=(10,40))\n",
    "ax = ax.flatten()\n",
    "\n",
    "for i, col in enumerate(num_col):\n",
    "    sns.boxplot(df_eda[col], ax=ax[i])\n",
    "plt.tight_layout()"
   ]
  },
  {
   "cell_type": "code",
   "execution_count": 44,
   "metadata": {},
   "outputs": [],
   "source": [
    "wins = Winsorizer(capping_method='iqr', tail='right', fold=1.5, variables=['limit_balance','age'])\n",
    "\n",
    "df_eda_handled = wins.fit_transform(df_eda)"
   ]
  },
  {
   "cell_type": "code",
   "execution_count": 45,
   "metadata": {},
   "outputs": [
    {
     "data": {
      "image/png": "[encoded data removed]",
      "text/plain": [
       "<Figure size 1440x720 with 2 Axes>"
      ]
     },
     "metadata": {
      "needs_background": "light"
     },
     "output_type": "display_data"
    }
   ],
   "source": [
    "num_col = ['limit_balance','age','bill_amt_1','bill_amt_2','bill_amt_3','bill_amt_4','bill_amt_5','bill_amt_6','pay_amt_1','pay_amt_2','pay_amt_3'\n",
    "            ,'pay_amt_4','pay_amt_5','pay_amt_6','default_payment']\n",
    "fig,ax = plt.subplots(figsize=[20,10])\n",
    "corr = df_eda_handled[num_col].corr()\n",
    "\n",
    "ax = sns.heatmap(corr,annot=True)\n",
    "plt.show()"
   ]
  },
  {
   "cell_type": "markdown",
   "metadata": {},
   "source": [
    "After displaying the correlation value from each numerical columns, I decide to just take the limit_balance column, because that is the only column that has better correlation value towards default_payment compared to any other columns."
   ]
  },
  {
   "cell_type": "code",
   "execution_count": 46,
   "metadata": {},
   "outputs": [],
   "source": [
    "num_col_final = ['limit_balance']"
   ]
  },
  {
   "cell_type": "markdown",
   "metadata": {},
   "source": [
    "So after deciding which column is going to be used, I defined a variable to save that column."
   ]
  },
  {
   "cell_type": "code",
   "execution_count": 47,
   "metadata": {},
   "outputs": [
    {
     "data": {
      "text/html": [
       "<div>\n",
       "<style scoped>\n",
       "    .dataframe tbody tr th:only-of-type {\n",
       "        vertical-align: middle;\n",
       "    }\n",
       "\n",
       "    .dataframe tbody tr th {\n",
       "        vertical-align: top;\n",
       "    }\n",
       "\n",
       "    .dataframe thead th {\n",
       "        text-align: right;\n",
       "    }\n",
       "</style>\n",
       "<table border=\"1\" class=\"dataframe\">\n",
       "  <thead>\n",
       "    <tr style=\"text-align: right;\">\n",
       "      <th></th>\n",
       "      <th>limit_balance</th>\n",
       "      <th>pay_1</th>\n",
       "      <th>pay_2</th>\n",
       "      <th>pay_3</th>\n",
       "      <th>pay_4</th>\n",
       "      <th>pay_5</th>\n",
       "      <th>pay_6</th>\n",
       "      <th>default_payment</th>\n",
       "    </tr>\n",
       "  </thead>\n",
       "  <tbody>\n",
       "    <tr>\n",
       "      <th>1386</th>\n",
       "      <td>250000.0</td>\n",
       "      <td>0</td>\n",
       "      <td>0</td>\n",
       "      <td>0</td>\n",
       "      <td>0</td>\n",
       "      <td>0</td>\n",
       "      <td>0</td>\n",
       "      <td>0</td>\n",
       "    </tr>\n",
       "    <tr>\n",
       "      <th>40</th>\n",
       "      <td>220000.0</td>\n",
       "      <td>2</td>\n",
       "      <td>0</td>\n",
       "      <td>0</td>\n",
       "      <td>0</td>\n",
       "      <td>0</td>\n",
       "      <td>0</td>\n",
       "      <td>1</td>\n",
       "    </tr>\n",
       "    <tr>\n",
       "      <th>743</th>\n",
       "      <td>140000.0</td>\n",
       "      <td>0</td>\n",
       "      <td>0</td>\n",
       "      <td>2</td>\n",
       "      <td>2</td>\n",
       "      <td>0</td>\n",
       "      <td>0</td>\n",
       "      <td>0</td>\n",
       "    </tr>\n",
       "    <tr>\n",
       "      <th>2001</th>\n",
       "      <td>10000.0</td>\n",
       "      <td>3</td>\n",
       "      <td>2</td>\n",
       "      <td>2</td>\n",
       "      <td>3</td>\n",
       "      <td>3</td>\n",
       "      <td>3</td>\n",
       "      <td>1</td>\n",
       "    </tr>\n",
       "    <tr>\n",
       "      <th>2143</th>\n",
       "      <td>60000.0</td>\n",
       "      <td>0</td>\n",
       "      <td>0</td>\n",
       "      <td>0</td>\n",
       "      <td>0</td>\n",
       "      <td>0</td>\n",
       "      <td>0</td>\n",
       "      <td>0</td>\n",
       "    </tr>\n",
       "    <tr>\n",
       "      <th>...</th>\n",
       "      <td>...</td>\n",
       "      <td>...</td>\n",
       "      <td>...</td>\n",
       "      <td>...</td>\n",
       "      <td>...</td>\n",
       "      <td>...</td>\n",
       "      <td>...</td>\n",
       "      <td>...</td>\n",
       "    </tr>\n",
       "    <tr>\n",
       "      <th>2193</th>\n",
       "      <td>30000.0</td>\n",
       "      <td>0</td>\n",
       "      <td>0</td>\n",
       "      <td>0</td>\n",
       "      <td>0</td>\n",
       "      <td>0</td>\n",
       "      <td>0</td>\n",
       "      <td>0</td>\n",
       "    </tr>\n",
       "    <tr>\n",
       "      <th>343</th>\n",
       "      <td>80000.0</td>\n",
       "      <td>0</td>\n",
       "      <td>0</td>\n",
       "      <td>0</td>\n",
       "      <td>0</td>\n",
       "      <td>0</td>\n",
       "      <td>0</td>\n",
       "      <td>0</td>\n",
       "    </tr>\n",
       "    <tr>\n",
       "      <th>2240</th>\n",
       "      <td>70000.0</td>\n",
       "      <td>0</td>\n",
       "      <td>0</td>\n",
       "      <td>0</td>\n",
       "      <td>0</td>\n",
       "      <td>0</td>\n",
       "      <td>0</td>\n",
       "      <td>0</td>\n",
       "    </tr>\n",
       "    <tr>\n",
       "      <th>899</th>\n",
       "      <td>110000.0</td>\n",
       "      <td>0</td>\n",
       "      <td>0</td>\n",
       "      <td>0</td>\n",
       "      <td>0</td>\n",
       "      <td>0</td>\n",
       "      <td>0</td>\n",
       "      <td>1</td>\n",
       "    </tr>\n",
       "    <tr>\n",
       "      <th>418</th>\n",
       "      <td>30000.0</td>\n",
       "      <td>1</td>\n",
       "      <td>2</td>\n",
       "      <td>2</td>\n",
       "      <td>2</td>\n",
       "      <td>2</td>\n",
       "      <td>2</td>\n",
       "      <td>1</td>\n",
       "    </tr>\n",
       "  </tbody>\n",
       "</table>\n",
       "<p>2367 rows × 8 columns</p>\n",
       "</div>"
      ],
      "text/plain": [
       "      limit_balance  pay_1  pay_2  pay_3  pay_4  pay_5  pay_6  default_payment\n",
       "1386       250000.0      0      0      0      0      0      0                0\n",
       "40         220000.0      2      0      0      0      0      0                1\n",
       "743        140000.0      0      0      2      2      0      0                0\n",
       "2001        10000.0      3      2      2      3      3      3                1\n",
       "2143        60000.0      0      0      0      0      0      0                0\n",
       "...             ...    ...    ...    ...    ...    ...    ...              ...\n",
       "2193        30000.0      0      0      0      0      0      0                0\n",
       "343         80000.0      0      0      0      0      0      0                0\n",
       "2240        70000.0      0      0      0      0      0      0                0\n",
       "899        110000.0      0      0      0      0      0      0                1\n",
       "418         30000.0      1      2      2      2      2      2                1\n",
       "\n",
       "[2367 rows x 8 columns]"
      ]
     },
     "execution_count": 47,
     "metadata": {},
     "output_type": "execute_result"
    }
   ],
   "source": [
    "df_final = num_col_final + cat_col_final\n",
    "df_eda_handled = df_eda_handled[df_final]\n",
    "df_eda_handled"
   ]
  },
  {
   "cell_type": "markdown",
   "metadata": {},
   "source": [
    "#### Scaling"
   ]
  },
  {
   "cell_type": "markdown",
   "metadata": {},
   "source": [
    "After decide which features that is going to be used, the next step is scaling the numerical columns."
   ]
  },
  {
   "cell_type": "code",
   "execution_count": 48,
   "metadata": {},
   "outputs": [
    {
     "data": {
      "text/html": [
       "<div>\n",
       "<style scoped>\n",
       "    .dataframe tbody tr th:only-of-type {\n",
       "        vertical-align: middle;\n",
       "    }\n",
       "\n",
       "    .dataframe tbody tr th {\n",
       "        vertical-align: top;\n",
       "    }\n",
       "\n",
       "    .dataframe thead th {\n",
       "        text-align: right;\n",
       "    }\n",
       "</style>\n",
       "<table border=\"1\" class=\"dataframe\">\n",
       "  <thead>\n",
       "    <tr style=\"text-align: right;\">\n",
       "      <th></th>\n",
       "      <th>limit_balance</th>\n",
       "      <th>pay_1</th>\n",
       "      <th>pay_2</th>\n",
       "      <th>pay_3</th>\n",
       "      <th>pay_4</th>\n",
       "      <th>pay_5</th>\n",
       "      <th>pay_6</th>\n",
       "      <th>default_payment</th>\n",
       "    </tr>\n",
       "  </thead>\n",
       "  <tbody>\n",
       "    <tr>\n",
       "      <th>1386</th>\n",
       "      <td>0.489796</td>\n",
       "      <td>0</td>\n",
       "      <td>0</td>\n",
       "      <td>0</td>\n",
       "      <td>0</td>\n",
       "      <td>0</td>\n",
       "      <td>0</td>\n",
       "      <td>0</td>\n",
       "    </tr>\n",
       "    <tr>\n",
       "      <th>40</th>\n",
       "      <td>0.428571</td>\n",
       "      <td>2</td>\n",
       "      <td>0</td>\n",
       "      <td>0</td>\n",
       "      <td>0</td>\n",
       "      <td>0</td>\n",
       "      <td>0</td>\n",
       "      <td>1</td>\n",
       "    </tr>\n",
       "    <tr>\n",
       "      <th>743</th>\n",
       "      <td>0.265306</td>\n",
       "      <td>0</td>\n",
       "      <td>0</td>\n",
       "      <td>2</td>\n",
       "      <td>2</td>\n",
       "      <td>0</td>\n",
       "      <td>0</td>\n",
       "      <td>0</td>\n",
       "    </tr>\n",
       "    <tr>\n",
       "      <th>2001</th>\n",
       "      <td>0.000000</td>\n",
       "      <td>3</td>\n",
       "      <td>2</td>\n",
       "      <td>2</td>\n",
       "      <td>3</td>\n",
       "      <td>3</td>\n",
       "      <td>3</td>\n",
       "      <td>1</td>\n",
       "    </tr>\n",
       "    <tr>\n",
       "      <th>2143</th>\n",
       "      <td>0.102041</td>\n",
       "      <td>0</td>\n",
       "      <td>0</td>\n",
       "      <td>0</td>\n",
       "      <td>0</td>\n",
       "      <td>0</td>\n",
       "      <td>0</td>\n",
       "      <td>0</td>\n",
       "    </tr>\n",
       "    <tr>\n",
       "      <th>...</th>\n",
       "      <td>...</td>\n",
       "      <td>...</td>\n",
       "      <td>...</td>\n",
       "      <td>...</td>\n",
       "      <td>...</td>\n",
       "      <td>...</td>\n",
       "      <td>...</td>\n",
       "      <td>...</td>\n",
       "    </tr>\n",
       "    <tr>\n",
       "      <th>2193</th>\n",
       "      <td>0.040816</td>\n",
       "      <td>0</td>\n",
       "      <td>0</td>\n",
       "      <td>0</td>\n",
       "      <td>0</td>\n",
       "      <td>0</td>\n",
       "      <td>0</td>\n",
       "      <td>0</td>\n",
       "    </tr>\n",
       "    <tr>\n",
       "      <th>343</th>\n",
       "      <td>0.142857</td>\n",
       "      <td>0</td>\n",
       "      <td>0</td>\n",
       "      <td>0</td>\n",
       "      <td>0</td>\n",
       "      <td>0</td>\n",
       "      <td>0</td>\n",
       "      <td>0</td>\n",
       "    </tr>\n",
       "    <tr>\n",
       "      <th>2240</th>\n",
       "      <td>0.122449</td>\n",
       "      <td>0</td>\n",
       "      <td>0</td>\n",
       "      <td>0</td>\n",
       "      <td>0</td>\n",
       "      <td>0</td>\n",
       "      <td>0</td>\n",
       "      <td>0</td>\n",
       "    </tr>\n",
       "    <tr>\n",
       "      <th>899</th>\n",
       "      <td>0.204082</td>\n",
       "      <td>0</td>\n",
       "      <td>0</td>\n",
       "      <td>0</td>\n",
       "      <td>0</td>\n",
       "      <td>0</td>\n",
       "      <td>0</td>\n",
       "      <td>1</td>\n",
       "    </tr>\n",
       "    <tr>\n",
       "      <th>418</th>\n",
       "      <td>0.040816</td>\n",
       "      <td>1</td>\n",
       "      <td>2</td>\n",
       "      <td>2</td>\n",
       "      <td>2</td>\n",
       "      <td>2</td>\n",
       "      <td>2</td>\n",
       "      <td>1</td>\n",
       "    </tr>\n",
       "  </tbody>\n",
       "</table>\n",
       "<p>2367 rows × 8 columns</p>\n",
       "</div>"
      ],
      "text/plain": [
       "      limit_balance  pay_1  pay_2  pay_3  pay_4  pay_5  pay_6  default_payment\n",
       "1386       0.489796      0      0      0      0      0      0                0\n",
       "40         0.428571      2      0      0      0      0      0                1\n",
       "743        0.265306      0      0      2      2      0      0                0\n",
       "2001       0.000000      3      2      2      3      3      3                1\n",
       "2143       0.102041      0      0      0      0      0      0                0\n",
       "...             ...    ...    ...    ...    ...    ...    ...              ...\n",
       "2193       0.040816      0      0      0      0      0      0                0\n",
       "343        0.142857      0      0      0      0      0      0                0\n",
       "2240       0.122449      0      0      0      0      0      0                0\n",
       "899        0.204082      0      0      0      0      0      0                1\n",
       "418        0.040816      1      2      2      2      2      2                1\n",
       "\n",
       "[2367 rows x 8 columns]"
      ]
     },
     "execution_count": 48,
     "metadata": {},
     "output_type": "execute_result"
    }
   ],
   "source": [
    "num_col_final = ['limit_balance']\n",
    "scaler = MinMaxScaler()\n",
    "\n",
    "df_eda_handled[num_col_final] = scaler.fit_transform(df_eda_handled[num_col_final])\n",
    "df_eda_handled"
   ]
  },
  {
   "cell_type": "markdown",
   "metadata": {},
   "source": [
    "---"
   ]
  },
  {
   "cell_type": "markdown",
   "metadata": {},
   "source": [
    "After doing analysis and observation on data train set. Now it's the time to do the same thing on data test set."
   ]
  },
  {
   "cell_type": "code",
   "execution_count": 49,
   "metadata": {},
   "outputs": [
    {
     "data": {
      "text/html": [
       "<div>\n",
       "<style scoped>\n",
       "    .dataframe tbody tr th:only-of-type {\n",
       "        vertical-align: middle;\n",
       "    }\n",
       "\n",
       "    .dataframe tbody tr th {\n",
       "        vertical-align: top;\n",
       "    }\n",
       "\n",
       "    .dataframe thead th {\n",
       "        text-align: right;\n",
       "    }\n",
       "</style>\n",
       "<table border=\"1\" class=\"dataframe\">\n",
       "  <thead>\n",
       "    <tr style=\"text-align: right;\">\n",
       "      <th></th>\n",
       "      <th>limit_balance</th>\n",
       "      <th>sex</th>\n",
       "      <th>education_level</th>\n",
       "      <th>marital_status</th>\n",
       "      <th>age</th>\n",
       "      <th>bill_amt_1</th>\n",
       "      <th>bill_amt_2</th>\n",
       "      <th>bill_amt_3</th>\n",
       "      <th>bill_amt_4</th>\n",
       "      <th>bill_amt_5</th>\n",
       "      <th>...</th>\n",
       "      <th>pay_amt_4</th>\n",
       "      <th>pay_amt_5</th>\n",
       "      <th>pay_amt_6</th>\n",
       "      <th>pay_1</th>\n",
       "      <th>pay_2</th>\n",
       "      <th>pay_3</th>\n",
       "      <th>pay_4</th>\n",
       "      <th>pay_5</th>\n",
       "      <th>pay_6</th>\n",
       "      <th>default_payment</th>\n",
       "    </tr>\n",
       "  </thead>\n",
       "  <tbody>\n",
       "    <tr>\n",
       "      <th>502</th>\n",
       "      <td>350000</td>\n",
       "      <td>1</td>\n",
       "      <td>1</td>\n",
       "      <td>1</td>\n",
       "      <td>30</td>\n",
       "      <td>51672</td>\n",
       "      <td>31250</td>\n",
       "      <td>29178</td>\n",
       "      <td>29180</td>\n",
       "      <td>52550</td>\n",
       "      <td>...</td>\n",
       "      <td>32244</td>\n",
       "      <td>40218</td>\n",
       "      <td>112406</td>\n",
       "      <td>0</td>\n",
       "      <td>0</td>\n",
       "      <td>0</td>\n",
       "      <td>0</td>\n",
       "      <td>0</td>\n",
       "      <td>0</td>\n",
       "      <td>0</td>\n",
       "    </tr>\n",
       "    <tr>\n",
       "      <th>2861</th>\n",
       "      <td>50000</td>\n",
       "      <td>1</td>\n",
       "      <td>2</td>\n",
       "      <td>1</td>\n",
       "      <td>48</td>\n",
       "      <td>79262</td>\n",
       "      <td>40931</td>\n",
       "      <td>40892</td>\n",
       "      <td>41612</td>\n",
       "      <td>18825</td>\n",
       "      <td>...</td>\n",
       "      <td>10000</td>\n",
       "      <td>1000</td>\n",
       "      <td>700</td>\n",
       "      <td>2</td>\n",
       "      <td>0</td>\n",
       "      <td>0</td>\n",
       "      <td>0</td>\n",
       "      <td>0</td>\n",
       "      <td>0</td>\n",
       "      <td>1</td>\n",
       "    </tr>\n",
       "    <tr>\n",
       "      <th>1711</th>\n",
       "      <td>380000</td>\n",
       "      <td>1</td>\n",
       "      <td>1</td>\n",
       "      <td>1</td>\n",
       "      <td>52</td>\n",
       "      <td>0</td>\n",
       "      <td>0</td>\n",
       "      <td>0</td>\n",
       "      <td>0</td>\n",
       "      <td>0</td>\n",
       "      <td>...</td>\n",
       "      <td>0</td>\n",
       "      <td>0</td>\n",
       "      <td>0</td>\n",
       "      <td>1</td>\n",
       "      <td>0</td>\n",
       "      <td>0</td>\n",
       "      <td>0</td>\n",
       "      <td>0</td>\n",
       "      <td>0</td>\n",
       "      <td>0</td>\n",
       "    </tr>\n",
       "    <tr>\n",
       "      <th>2144</th>\n",
       "      <td>240000</td>\n",
       "      <td>2</td>\n",
       "      <td>1</td>\n",
       "      <td>2</td>\n",
       "      <td>25</td>\n",
       "      <td>0</td>\n",
       "      <td>587</td>\n",
       "      <td>0</td>\n",
       "      <td>2417</td>\n",
       "      <td>0</td>\n",
       "      <td>...</td>\n",
       "      <td>0</td>\n",
       "      <td>0</td>\n",
       "      <td>7642</td>\n",
       "      <td>1</td>\n",
       "      <td>0</td>\n",
       "      <td>0</td>\n",
       "      <td>0</td>\n",
       "      <td>0</td>\n",
       "      <td>0</td>\n",
       "      <td>0</td>\n",
       "    </tr>\n",
       "    <tr>\n",
       "      <th>2462</th>\n",
       "      <td>80000</td>\n",
       "      <td>1</td>\n",
       "      <td>1</td>\n",
       "      <td>1</td>\n",
       "      <td>46</td>\n",
       "      <td>48967</td>\n",
       "      <td>49850</td>\n",
       "      <td>50767</td>\n",
       "      <td>45721</td>\n",
       "      <td>49006</td>\n",
       "      <td>...</td>\n",
       "      <td>4000</td>\n",
       "      <td>8697</td>\n",
       "      <td>0</td>\n",
       "      <td>0</td>\n",
       "      <td>0</td>\n",
       "      <td>0</td>\n",
       "      <td>0</td>\n",
       "      <td>0</td>\n",
       "      <td>0</td>\n",
       "      <td>0</td>\n",
       "    </tr>\n",
       "  </tbody>\n",
       "</table>\n",
       "<p>5 rows × 24 columns</p>\n",
       "</div>"
      ],
      "text/plain": [
       "      limit_balance  sex  education_level  marital_status  age  bill_amt_1  \\\n",
       "502          350000    1                1               1   30       51672   \n",
       "2861          50000    1                2               1   48       79262   \n",
       "1711         380000    1                1               1   52           0   \n",
       "2144         240000    2                1               2   25           0   \n",
       "2462          80000    1                1               1   46       48967   \n",
       "\n",
       "      bill_amt_2  bill_amt_3  bill_amt_4  bill_amt_5  ...  pay_amt_4  \\\n",
       "502        31250       29178       29180       52550  ...      32244   \n",
       "2861       40931       40892       41612       18825  ...      10000   \n",
       "1711           0           0           0           0  ...          0   \n",
       "2144         587           0        2417           0  ...          0   \n",
       "2462       49850       50767       45721       49006  ...       4000   \n",
       "\n",
       "      pay_amt_5  pay_amt_6  pay_1  pay_2  pay_3  pay_4  pay_5  pay_6  \\\n",
       "502       40218     112406      0      0      0      0      0      0   \n",
       "2861       1000        700      2      0      0      0      0      0   \n",
       "1711          0          0      1      0      0      0      0      0   \n",
       "2144          0       7642      1      0      0      0      0      0   \n",
       "2462       8697          0      0      0      0      0      0      0   \n",
       "\n",
       "      default_payment  \n",
       "502                 0  \n",
       "2861                1  \n",
       "1711                0  \n",
       "2144                0  \n",
       "2462                0  \n",
       "\n",
       "[5 rows x 24 columns]"
      ]
     },
     "execution_count": 49,
     "metadata": {},
     "output_type": "execute_result"
    }
   ],
   "source": [
    "test_data = pd.concat([x_test, y_test], axis=1)\n",
    "test_data.head()"
   ]
  },
  {
   "cell_type": "markdown",
   "metadata": {},
   "source": [
    "#### Scaling"
   ]
  },
  {
   "cell_type": "code",
   "execution_count": 50,
   "metadata": {},
   "outputs": [
    {
     "data": {
      "text/html": [
       "<div>\n",
       "<style scoped>\n",
       "    .dataframe tbody tr th:only-of-type {\n",
       "        vertical-align: middle;\n",
       "    }\n",
       "\n",
       "    .dataframe tbody tr th {\n",
       "        vertical-align: top;\n",
       "    }\n",
       "\n",
       "    .dataframe thead th {\n",
       "        text-align: right;\n",
       "    }\n",
       "</style>\n",
       "<table border=\"1\" class=\"dataframe\">\n",
       "  <thead>\n",
       "    <tr style=\"text-align: right;\">\n",
       "      <th></th>\n",
       "      <th>limit_balance</th>\n",
       "      <th>pay_1</th>\n",
       "      <th>pay_2</th>\n",
       "      <th>pay_3</th>\n",
       "      <th>pay_4</th>\n",
       "      <th>pay_5</th>\n",
       "      <th>pay_6</th>\n",
       "      <th>default_payment</th>\n",
       "    </tr>\n",
       "  </thead>\n",
       "  <tbody>\n",
       "    <tr>\n",
       "      <th>502</th>\n",
       "      <td>350000</td>\n",
       "      <td>0</td>\n",
       "      <td>0</td>\n",
       "      <td>0</td>\n",
       "      <td>0</td>\n",
       "      <td>0</td>\n",
       "      <td>0</td>\n",
       "      <td>0</td>\n",
       "    </tr>\n",
       "    <tr>\n",
       "      <th>2861</th>\n",
       "      <td>50000</td>\n",
       "      <td>2</td>\n",
       "      <td>0</td>\n",
       "      <td>0</td>\n",
       "      <td>0</td>\n",
       "      <td>0</td>\n",
       "      <td>0</td>\n",
       "      <td>1</td>\n",
       "    </tr>\n",
       "  </tbody>\n",
       "</table>\n",
       "</div>"
      ],
      "text/plain": [
       "      limit_balance  pay_1  pay_2  pay_3  pay_4  pay_5  pay_6  default_payment\n",
       "502          350000      0      0      0      0      0      0                0\n",
       "2861          50000      2      0      0      0      0      0                1"
      ]
     },
     "execution_count": 50,
     "metadata": {},
     "output_type": "execute_result"
    }
   ],
   "source": [
    "test_data = test_data[df_final]\n",
    "test_data.head(2)"
   ]
  },
  {
   "cell_type": "code",
   "execution_count": 51,
   "metadata": {},
   "outputs": [
    {
     "data": {
      "text/html": [
       "<div>\n",
       "<style scoped>\n",
       "    .dataframe tbody tr th:only-of-type {\n",
       "        vertical-align: middle;\n",
       "    }\n",
       "\n",
       "    .dataframe tbody tr th {\n",
       "        vertical-align: top;\n",
       "    }\n",
       "\n",
       "    .dataframe thead th {\n",
       "        text-align: right;\n",
       "    }\n",
       "</style>\n",
       "<table border=\"1\" class=\"dataframe\">\n",
       "  <thead>\n",
       "    <tr style=\"text-align: right;\">\n",
       "      <th></th>\n",
       "      <th>limit_balance</th>\n",
       "      <th>pay_1</th>\n",
       "      <th>pay_2</th>\n",
       "      <th>pay_3</th>\n",
       "      <th>pay_4</th>\n",
       "      <th>pay_5</th>\n",
       "      <th>pay_6</th>\n",
       "      <th>default_payment</th>\n",
       "    </tr>\n",
       "  </thead>\n",
       "  <tbody>\n",
       "    <tr>\n",
       "      <th>502</th>\n",
       "      <td>0.693878</td>\n",
       "      <td>0</td>\n",
       "      <td>0</td>\n",
       "      <td>0</td>\n",
       "      <td>0</td>\n",
       "      <td>0</td>\n",
       "      <td>0</td>\n",
       "      <td>0</td>\n",
       "    </tr>\n",
       "    <tr>\n",
       "      <th>2861</th>\n",
       "      <td>0.081633</td>\n",
       "      <td>2</td>\n",
       "      <td>0</td>\n",
       "      <td>0</td>\n",
       "      <td>0</td>\n",
       "      <td>0</td>\n",
       "      <td>0</td>\n",
       "      <td>1</td>\n",
       "    </tr>\n",
       "    <tr>\n",
       "      <th>1711</th>\n",
       "      <td>0.755102</td>\n",
       "      <td>1</td>\n",
       "      <td>0</td>\n",
       "      <td>0</td>\n",
       "      <td>0</td>\n",
       "      <td>0</td>\n",
       "      <td>0</td>\n",
       "      <td>0</td>\n",
       "    </tr>\n",
       "    <tr>\n",
       "      <th>2144</th>\n",
       "      <td>0.469388</td>\n",
       "      <td>1</td>\n",
       "      <td>0</td>\n",
       "      <td>0</td>\n",
       "      <td>0</td>\n",
       "      <td>0</td>\n",
       "      <td>0</td>\n",
       "      <td>0</td>\n",
       "    </tr>\n",
       "    <tr>\n",
       "      <th>2462</th>\n",
       "      <td>0.142857</td>\n",
       "      <td>0</td>\n",
       "      <td>0</td>\n",
       "      <td>0</td>\n",
       "      <td>0</td>\n",
       "      <td>0</td>\n",
       "      <td>0</td>\n",
       "      <td>0</td>\n",
       "    </tr>\n",
       "    <tr>\n",
       "      <th>...</th>\n",
       "      <td>...</td>\n",
       "      <td>...</td>\n",
       "      <td>...</td>\n",
       "      <td>...</td>\n",
       "      <td>...</td>\n",
       "      <td>...</td>\n",
       "      <td>...</td>\n",
       "      <td>...</td>\n",
       "    </tr>\n",
       "    <tr>\n",
       "      <th>2150</th>\n",
       "      <td>0.020408</td>\n",
       "      <td>0</td>\n",
       "      <td>0</td>\n",
       "      <td>0</td>\n",
       "      <td>0</td>\n",
       "      <td>0</td>\n",
       "      <td>0</td>\n",
       "      <td>0</td>\n",
       "    </tr>\n",
       "    <tr>\n",
       "      <th>31</th>\n",
       "      <td>0.122449</td>\n",
       "      <td>0</td>\n",
       "      <td>0</td>\n",
       "      <td>0</td>\n",
       "      <td>0</td>\n",
       "      <td>0</td>\n",
       "      <td>0</td>\n",
       "      <td>0</td>\n",
       "    </tr>\n",
       "    <tr>\n",
       "      <th>2887</th>\n",
       "      <td>0.326531</td>\n",
       "      <td>0</td>\n",
       "      <td>0</td>\n",
       "      <td>0</td>\n",
       "      <td>0</td>\n",
       "      <td>0</td>\n",
       "      <td>0</td>\n",
       "      <td>0</td>\n",
       "    </tr>\n",
       "    <tr>\n",
       "      <th>2943</th>\n",
       "      <td>0.285714</td>\n",
       "      <td>0</td>\n",
       "      <td>0</td>\n",
       "      <td>0</td>\n",
       "      <td>0</td>\n",
       "      <td>0</td>\n",
       "      <td>0</td>\n",
       "      <td>0</td>\n",
       "    </tr>\n",
       "    <tr>\n",
       "      <th>391</th>\n",
       "      <td>0.040816</td>\n",
       "      <td>2</td>\n",
       "      <td>2</td>\n",
       "      <td>0</td>\n",
       "      <td>0</td>\n",
       "      <td>0</td>\n",
       "      <td>0</td>\n",
       "      <td>0</td>\n",
       "    </tr>\n",
       "  </tbody>\n",
       "</table>\n",
       "<p>592 rows × 8 columns</p>\n",
       "</div>"
      ],
      "text/plain": [
       "      limit_balance  pay_1  pay_2  pay_3  pay_4  pay_5  pay_6  default_payment\n",
       "502        0.693878      0      0      0      0      0      0                0\n",
       "2861       0.081633      2      0      0      0      0      0                1\n",
       "1711       0.755102      1      0      0      0      0      0                0\n",
       "2144       0.469388      1      0      0      0      0      0                0\n",
       "2462       0.142857      0      0      0      0      0      0                0\n",
       "...             ...    ...    ...    ...    ...    ...    ...              ...\n",
       "2150       0.020408      0      0      0      0      0      0                0\n",
       "31         0.122449      0      0      0      0      0      0                0\n",
       "2887       0.326531      0      0      0      0      0      0                0\n",
       "2943       0.285714      0      0      0      0      0      0                0\n",
       "391        0.040816      2      2      0      0      0      0                0\n",
       "\n",
       "[592 rows x 8 columns]"
      ]
     },
     "execution_count": 51,
     "metadata": {},
     "output_type": "execute_result"
    }
   ],
   "source": [
    "test_data[num_col_final] = scaler.transform(test_data[num_col_final])\n",
    "test_data"
   ]
  },
  {
   "cell_type": "code",
   "execution_count": 52,
   "metadata": {},
   "outputs": [],
   "source": [
    "x_train = df_eda_handled.drop('default_payment',axis=1).copy()\n",
    "y_train = df_eda_handled['default_payment']\n",
    "\n",
    "x_test = test_data.drop('default_payment',axis=1).copy()\n",
    "y_test = test_data['default_payment']"
   ]
  },
  {
   "cell_type": "markdown",
   "metadata": {},
   "source": [
    "## vi. Model Definition"
   ]
  },
  {
   "cell_type": "markdown",
   "metadata": {},
   "source": [
    "After we got the fixed and handled columns, now the next step is to define variables for each models."
   ]
  },
  {
   "cell_type": "code",
   "execution_count": 53,
   "metadata": {},
   "outputs": [],
   "source": [
    "#Logistic Regression\n",
    "log_model = LogisticRegression()"
   ]
  },
  {
   "cell_type": "code",
   "execution_count": 54,
   "metadata": {},
   "outputs": [],
   "source": [
    "#SVC\n",
    "svc_model = SVC()"
   ]
  },
  {
   "cell_type": "code",
   "execution_count": 55,
   "metadata": {},
   "outputs": [],
   "source": [
    "#Decision Tree\n",
    "dt_model = DecisionTreeClassifier()"
   ]
  },
  {
   "cell_type": "code",
   "execution_count": 56,
   "metadata": {},
   "outputs": [],
   "source": [
    "#Random Forest\n",
    "rf_model = RandomForestClassifier()"
   ]
  },
  {
   "cell_type": "code",
   "execution_count": 57,
   "metadata": {},
   "outputs": [],
   "source": [
    "#K-Nearest Neighbors\n",
    "knn_model = KNeighborsClassifier()"
   ]
  },
  {
   "cell_type": "code",
   "execution_count": 58,
   "metadata": {},
   "outputs": [],
   "source": [
    "#Gaussian Naive Bayes\n",
    "nb_model = GaussianNB()"
   ]
  },
  {
   "cell_type": "code",
   "execution_count": 59,
   "metadata": {},
   "outputs": [],
   "source": [
    "#AdaBoost Classifier\n",
    "ab_model = AdaBoostClassifier()"
   ]
  },
  {
   "cell_type": "markdown",
   "metadata": {},
   "source": [
    "## vii. Model Training"
   ]
  },
  {
   "cell_type": "markdown",
   "metadata": {},
   "source": [
    "After done the model definition, now is the model training step which help identify and learn good values for all attributes involved."
   ]
  },
  {
   "cell_type": "code",
   "execution_count": 60,
   "metadata": {},
   "outputs": [
    {
     "data": {
      "text/plain": [
       "LogisticRegression()"
      ]
     },
     "execution_count": 60,
     "metadata": {},
     "output_type": "execute_result"
    }
   ],
   "source": [
    "log_model.fit(x_train, y_train)"
   ]
  },
  {
   "cell_type": "code",
   "execution_count": 61,
   "metadata": {},
   "outputs": [
    {
     "data": {
      "text/plain": [
       "SVC()"
      ]
     },
     "execution_count": 61,
     "metadata": {},
     "output_type": "execute_result"
    }
   ],
   "source": [
    "svc_model.fit(x_train, y_train)"
   ]
  },
  {
   "cell_type": "code",
   "execution_count": 62,
   "metadata": {},
   "outputs": [
    {
     "data": {
      "text/plain": [
       "DecisionTreeClassifier()"
      ]
     },
     "execution_count": 62,
     "metadata": {},
     "output_type": "execute_result"
    }
   ],
   "source": [
    "dt_model.fit(x_train, y_train)"
   ]
  },
  {
   "cell_type": "code",
   "execution_count": 63,
   "metadata": {},
   "outputs": [
    {
     "data": {
      "text/plain": [
       "RandomForestClassifier()"
      ]
     },
     "execution_count": 63,
     "metadata": {},
     "output_type": "execute_result"
    }
   ],
   "source": [
    "rf_model.fit(x_train, y_train)"
   ]
  },
  {
   "cell_type": "code",
   "execution_count": 64,
   "metadata": {},
   "outputs": [
    {
     "data": {
      "text/plain": [
       "KNeighborsClassifier()"
      ]
     },
     "execution_count": 64,
     "metadata": {},
     "output_type": "execute_result"
    }
   ],
   "source": [
    "knn_model.fit(x_train, y_train)"
   ]
  },
  {
   "cell_type": "code",
   "execution_count": 65,
   "metadata": {},
   "outputs": [
    {
     "data": {
      "text/plain": [
       "GaussianNB()"
      ]
     },
     "execution_count": 65,
     "metadata": {},
     "output_type": "execute_result"
    }
   ],
   "source": [
    "nb_model.fit(x_train, y_train)"
   ]
  },
  {
   "cell_type": "code",
   "execution_count": 66,
   "metadata": {},
   "outputs": [
    {
     "data": {
      "text/plain": [
       "AdaBoostClassifier()"
      ]
     },
     "execution_count": 66,
     "metadata": {},
     "output_type": "execute_result"
    }
   ],
   "source": [
    "ab_model.fit(x_train, y_train)"
   ]
  },
  {
   "cell_type": "markdown",
   "metadata": {},
   "source": [
    "---"
   ]
  },
  {
   "cell_type": "markdown",
   "metadata": {},
   "source": [
    "#### Cross Validation"
   ]
  },
  {
   "cell_type": "code",
   "execution_count": 67,
   "metadata": {},
   "outputs": [
    {
     "name": "stdout",
     "output_type": "stream",
     "text": [
      "F1 Score - All - Cross Validation  :  [0.84283904 0.83396705 0.83143219]\n",
      "F1 Score - Mean - Cross Validation :  0.8360794254330375\n",
      "F1 Score - Std - Cross Validation  :  0.004890509887110357\n"
     ]
    }
   ],
   "source": [
    "#Logistic Regression Cross Validation\n",
    "log_cv = cross_val_score(log_model, \n",
    "                         x_train, \n",
    "                         y_train, \n",
    "                         cv=3, \n",
    "                         scoring='accuracy')\n",
    "\n",
    "print('F1 Score - All - Cross Validation  : ', log_cv)\n",
    "print('F1 Score - Mean - Cross Validation : ', log_cv.mean())\n",
    "print('F1 Score - Std - Cross Validation  : ', log_cv.std())"
   ]
  },
  {
   "cell_type": "code",
   "execution_count": 68,
   "metadata": {},
   "outputs": [
    {
     "name": "stdout",
     "output_type": "stream",
     "text": [
      "F1 Score - All - Cross Validation  :  [0.8365019  0.81875792 0.83143219]\n",
      "F1 Score - Mean - Cross Validation :  0.8288973384030419\n",
      "F1 Score - Std - Cross Validation  :  0.00746240884353852\n"
     ]
    }
   ],
   "source": [
    "#SVC Cross Validation\n",
    "svc_cv = cross_val_score(svc_model, \n",
    "                         x_train, \n",
    "                         y_train, \n",
    "                         cv=3, \n",
    "                         scoring='accuracy')\n",
    "\n",
    "print('F1 Score - All - Cross Validation  : ', svc_cv)\n",
    "print('F1 Score - Mean - Cross Validation : ', svc_cv.mean())\n",
    "print('F1 Score - Std - Cross Validation  : ', svc_cv.std())"
   ]
  },
  {
   "cell_type": "code",
   "execution_count": 69,
   "metadata": {},
   "outputs": [
    {
     "name": "stdout",
     "output_type": "stream",
     "text": [
      "F1 Score - All - Cross Validation  :  [0.82002535 0.80481622 0.81622307]\n",
      "F1 Score - Mean - Cross Validation :  0.8136882129277566\n",
      "F1 Score - Std - Cross Validation  :  0.006462635631930023\n"
     ]
    }
   ],
   "source": [
    "#Decision Tree Cross Validation\n",
    "dt_cv = cross_val_score(dt_model, \n",
    "                         x_train, \n",
    "                         y_train, \n",
    "                         cv=3, \n",
    "                         scoring='accuracy')\n",
    "\n",
    "print('F1 Score - All - Cross Validation  : ', dt_cv)\n",
    "print('F1 Score - Mean - Cross Validation : ', dt_cv.mean())\n",
    "print('F1 Score - Std - Cross Validation  : ', dt_cv.std())"
   ]
  },
  {
   "cell_type": "code",
   "execution_count": 70,
   "metadata": {},
   "outputs": [
    {
     "name": "stdout",
     "output_type": "stream",
     "text": [
      "F1 Score - All - Cross Validation  :  [0.81368821 0.81115336 0.81622307]\n",
      "F1 Score - Mean - Cross Validation :  0.8136882129277566\n",
      "F1 Score - Std - Cross Validation  :  0.0020696998249118406\n"
     ]
    }
   ],
   "source": [
    "#Random Forest Cross Validation\n",
    "rf_cv = cross_val_score(rf_model, \n",
    "                         x_train, \n",
    "                         y_train, \n",
    "                         cv=3, \n",
    "                         scoring='accuracy')\n",
    "\n",
    "print('F1 Score - All - Cross Validation  : ', rf_cv)\n",
    "print('F1 Score - Mean - Cross Validation : ', rf_cv.mean())\n",
    "print('F1 Score - Std - Cross Validation  : ', rf_cv.std())"
   ]
  },
  {
   "cell_type": "code",
   "execution_count": 71,
   "metadata": {},
   "outputs": [
    {
     "name": "stdout",
     "output_type": "stream",
     "text": [
      "F1 Score - All - Cross Validation  :  [0.82129278 0.81875792 0.81875792]\n",
      "F1 Score - Mean - Cross Validation :  0.8196028728348121\n",
      "F1 Score - Std - Cross Validation  :  0.0011949417510545726\n"
     ]
    }
   ],
   "source": [
    "#KNeighbor Classifier Cross Validation\n",
    "knn_cv = cross_val_score(knn_model, \n",
    "                         x_train, \n",
    "                         y_train, \n",
    "                         cv=3, \n",
    "                         scoring='accuracy')\n",
    "\n",
    "print('F1 Score - All - Cross Validation  : ', knn_cv)\n",
    "print('F1 Score - Mean - Cross Validation : ', knn_cv.mean())\n",
    "print('F1 Score - Std - Cross Validation  : ', knn_cv.std())"
   ]
  },
  {
   "cell_type": "code",
   "execution_count": 72,
   "metadata": {},
   "outputs": [
    {
     "name": "stdout",
     "output_type": "stream",
     "text": [
      "F1 Score - All - Cross Validation  :  [0.81115336 0.81242079 0.77820025]\n",
      "F1 Score - Mean - Cross Validation :  0.8005914659907055\n",
      "F1 Score - Std - Cross Validation  :  0.015841430721802028\n"
     ]
    }
   ],
   "source": [
    "#GaussianNB Cross Validation\n",
    "nb_cv = cross_val_score(nb_model, \n",
    "                         x_train, \n",
    "                         y_train, \n",
    "                         cv=3, \n",
    "                         scoring='accuracy')\n",
    "\n",
    "print('F1 Score - All - Cross Validation  : ', nb_cv)\n",
    "print('F1 Score - Mean - Cross Validation : ', nb_cv.mean())\n",
    "print('F1 Score - Std - Cross Validation  : ', nb_cv.std())"
   ]
  },
  {
   "cell_type": "code",
   "execution_count": 73,
   "metadata": {},
   "outputs": [
    {
     "name": "stdout",
     "output_type": "stream",
     "text": [
      "F1 Score - All - Cross Validation  :  [0.83903676 0.83143219 0.83396705]\n",
      "F1 Score - Mean - Cross Validation :  0.8348119983100971\n",
      "F1 Score - Std - Cross Validation  :  0.003161518704498502\n"
     ]
    }
   ],
   "source": [
    "#AdaBoost Classifier Cross Validation\n",
    "ab_cv = cross_val_score(ab_model, \n",
    "                         x_train, \n",
    "                         y_train, \n",
    "                         cv=3, \n",
    "                         scoring='accuracy')\n",
    "\n",
    "print('F1 Score - All - Cross Validation  : ', ab_cv)\n",
    "print('F1 Score - Mean - Cross Validation : ', ab_cv.mean())\n",
    "print('F1 Score - Std - Cross Validation  : ', ab_cv.std())"
   ]
  },
  {
   "cell_type": "markdown",
   "metadata": {},
   "source": [
    "#### Hyperparameter Tuning"
   ]
  },
  {
   "cell_type": "code",
   "execution_count": 74,
   "metadata": {},
   "outputs": [],
   "source": [
    "params = [\n",
    "    {'n_estimators': [100,150,200,300],                                           \n",
    "     'learning_rate': [0.01,0.1,1],\n",
    "     'random_state':[1,10,100],\n",
    "     'algorithm':['SAMME', 'SAMME.R'] }            \n",
    "  ]\n",
    "\n",
    "grid_search = GridSearchCV(ab_model, params, cv=3,\n",
    "                           scoring='recall',\n",
    "                           return_train_score=True)\n",
    "grid_search.fit(x_train, y_train)"
   ]
  },
  {
   "cell_type": "markdown",
   "metadata": {},
   "source": [
    "For the tuning, I use AdaBoost Classifier as the model, and Recall as the scoring."
   ]
  },
  {
   "cell_type": "code",
   "execution_count": null,
   "metadata": {},
   "outputs": [
    {
     "data": {
      "text/plain": [
       "(72, 20)"
      ]
     },
     "execution_count": 316,
     "metadata": {},
     "output_type": "execute_result"
    }
   ],
   "source": [
    "pd.DataFrame(grid_search.cv_results_).shape"
   ]
  },
  {
   "cell_type": "code",
   "execution_count": null,
   "metadata": {},
   "outputs": [
    {
     "data": {
      "text/plain": [
       "{'algorithm': 'SAMME',\n",
       " 'learning_rate': 0.01,\n",
       " 'n_estimators': 150,\n",
       " 'random_state': 1}"
      ]
     },
     "execution_count": 317,
     "metadata": {},
     "output_type": "execute_result"
    }
   ],
   "source": [
    "grid_search.best_params_"
   ]
  },
  {
   "cell_type": "code",
   "execution_count": null,
   "metadata": {},
   "outputs": [
    {
     "data": {
      "text/plain": [
       "0.39973624180211004"
      ]
     },
     "execution_count": 318,
     "metadata": {},
     "output_type": "execute_result"
    }
   ],
   "source": [
    "grid_search.best_score_"
   ]
  },
  {
   "cell_type": "code",
   "execution_count": null,
   "metadata": {},
   "outputs": [
    {
     "data": {
      "text/plain": [
       "AdaBoostClassifier(algorithm='SAMME', learning_rate=0.01, n_estimators=150,\n",
       "                   random_state=1)"
      ]
     },
     "execution_count": 319,
     "metadata": {},
     "output_type": "execute_result"
    }
   ],
   "source": [
    "grid_search.best_estimator_"
   ]
  },
  {
   "cell_type": "markdown",
   "metadata": {},
   "source": [
    "Based on the result above, AdaBoost Classifier is the best estimator to use in this model."
   ]
  },
  {
   "cell_type": "code",
   "execution_count": null,
   "metadata": {},
   "outputs": [],
   "source": [
    "ab_model_final = grid_search.best_estimator_"
   ]
  },
  {
   "cell_type": "markdown",
   "metadata": {},
   "source": [
    "I defined the best estimator as ab_model which means AdaBoost Model."
   ]
  },
  {
   "cell_type": "markdown",
   "metadata": {},
   "source": [
    "## viii. Model Evaluation"
   ]
  },
  {
   "cell_type": "code",
   "execution_count": null,
   "metadata": {},
   "outputs": [
    {
     "name": "stdout",
     "output_type": "stream",
     "text": [
      "========== TRAINING ==========\n",
      "              precision    recall  f1-score   support\n",
      "\n",
      "           0       0.86      0.95      0.90      1864\n",
      "           1       0.70      0.41      0.51       503\n",
      "\n",
      "    accuracy                           0.84      2367\n",
      "   macro avg       0.78      0.68      0.71      2367\n",
      "weighted avg       0.82      0.84      0.82      2367\n",
      "\n",
      "========== TEST ==========\n",
      "              precision    recall  f1-score   support\n",
      "\n",
      "           0       0.85      0.96      0.90       462\n",
      "           1       0.74      0.39      0.51       130\n",
      "\n",
      "    accuracy                           0.84       592\n",
      "   macro avg       0.79      0.68      0.71       592\n",
      "weighted avg       0.82      0.84      0.82       592\n",
      "\n",
      "========== TRAINING ==========\n",
      "              precision    recall  f1-score   support\n",
      "\n",
      "           0       0.86      0.95      0.90      1864\n",
      "           1       0.71      0.41      0.52       503\n",
      "\n",
      "    accuracy                           0.84      2367\n",
      "   macro avg       0.78      0.68      0.71      2367\n",
      "weighted avg       0.82      0.84      0.82      2367\n",
      "\n",
      "========== TEST ==========\n",
      "              precision    recall  f1-score   support\n",
      "\n",
      "           0       0.85      0.96      0.90       462\n",
      "           1       0.75      0.40      0.52       130\n",
      "\n",
      "    accuracy                           0.84       592\n",
      "   macro avg       0.80      0.68      0.71       592\n",
      "weighted avg       0.83      0.84      0.82       592\n",
      "\n"
     ]
    }
   ],
   "source": [
    "y_pred_train_before = ab_model.predict(x_train)\n",
    "y_pred_test_before = ab_model.predict(x_test)\n",
    "y_pred_train = ab_model_final.predict(x_train)\n",
    "y_pred_test = ab_model_final.predict(x_test)\n",
    "\n",
    "print(\"=\"*10,\"TRAINING\",\"=\"*10)\n",
    "print(classification_report(y_train,y_pred_train_before))\n",
    "print(\"=\"*10,\"TEST\",\"=\"*10)\n",
    "print(classification_report(y_test,y_pred_test_before))\n",
    "print(\"=\"*10,\"TRAINING\",\"=\"*10)\n",
    "print(classification_report(y_train,y_pred_train))\n",
    "print(\"=\"*10,\"TEST\",\"=\"*10)\n",
    "print(classification_report(y_test,y_pred_test))"
   ]
  },
  {
   "cell_type": "markdown",
   "metadata": {},
   "source": [
    "As we can see from the classification report above. There is a slightly increasing in recall value from class 1 from test set data. For the train set recall value is 0.39 and the recall value for test set is 0.40."
   ]
  },
  {
   "cell_type": "markdown",
   "metadata": {},
   "source": [
    "## ix. Model Inference"
   ]
  },
  {
   "cell_type": "code",
   "execution_count": null,
   "metadata": {},
   "outputs": [
    {
     "data": {
      "text/html": [
       "<div>\n",
       "<style scoped>\n",
       "    .dataframe tbody tr th:only-of-type {\n",
       "        vertical-align: middle;\n",
       "    }\n",
       "\n",
       "    .dataframe tbody tr th {\n",
       "        vertical-align: top;\n",
       "    }\n",
       "\n",
       "    .dataframe thead th {\n",
       "        text-align: right;\n",
       "    }\n",
       "</style>\n",
       "<table border=\"1\" class=\"dataframe\">\n",
       "  <thead>\n",
       "    <tr style=\"text-align: right;\">\n",
       "      <th></th>\n",
       "      <th>limit_balance</th>\n",
       "      <th>sex</th>\n",
       "      <th>education_level</th>\n",
       "      <th>marital_status</th>\n",
       "      <th>age</th>\n",
       "      <th>bill_amt_1</th>\n",
       "      <th>bill_amt_2</th>\n",
       "      <th>bill_amt_3</th>\n",
       "      <th>bill_amt_4</th>\n",
       "      <th>bill_amt_5</th>\n",
       "      <th>...</th>\n",
       "      <th>pay_amt_4</th>\n",
       "      <th>pay_amt_5</th>\n",
       "      <th>pay_amt_6</th>\n",
       "      <th>default_payment</th>\n",
       "      <th>pay_1</th>\n",
       "      <th>pay_2</th>\n",
       "      <th>pay_3</th>\n",
       "      <th>pay_4</th>\n",
       "      <th>pay_5</th>\n",
       "      <th>pay_6</th>\n",
       "    </tr>\n",
       "  </thead>\n",
       "  <tbody>\n",
       "    <tr>\n",
       "      <th>0</th>\n",
       "      <td>20000</td>\n",
       "      <td>1</td>\n",
       "      <td>2</td>\n",
       "      <td>2</td>\n",
       "      <td>27</td>\n",
       "      <td>0</td>\n",
       "      <td>0</td>\n",
       "      <td>0</td>\n",
       "      <td>0</td>\n",
       "      <td>0</td>\n",
       "      <td>...</td>\n",
       "      <td>0</td>\n",
       "      <td>0</td>\n",
       "      <td>0</td>\n",
       "      <td>1</td>\n",
       "      <td>1</td>\n",
       "      <td>0</td>\n",
       "      <td>0</td>\n",
       "      <td>0</td>\n",
       "      <td>0</td>\n",
       "      <td>0</td>\n",
       "    </tr>\n",
       "    <tr>\n",
       "      <th>1</th>\n",
       "      <td>80000</td>\n",
       "      <td>1</td>\n",
       "      <td>1</td>\n",
       "      <td>2</td>\n",
       "      <td>29</td>\n",
       "      <td>31637</td>\n",
       "      <td>27137</td>\n",
       "      <td>25986</td>\n",
       "      <td>23496</td>\n",
       "      <td>23601</td>\n",
       "      <td>...</td>\n",
       "      <td>2000</td>\n",
       "      <td>2000</td>\n",
       "      <td>2000</td>\n",
       "      <td>0</td>\n",
       "      <td>0</td>\n",
       "      <td>0</td>\n",
       "      <td>0</td>\n",
       "      <td>0</td>\n",
       "      <td>0</td>\n",
       "      <td>0</td>\n",
       "    </tr>\n",
       "    <tr>\n",
       "      <th>2</th>\n",
       "      <td>30000</td>\n",
       "      <td>2</td>\n",
       "      <td>3</td>\n",
       "      <td>2</td>\n",
       "      <td>28</td>\n",
       "      <td>25354</td>\n",
       "      <td>24826</td>\n",
       "      <td>25412</td>\n",
       "      <td>21658</td>\n",
       "      <td>980</td>\n",
       "      <td>...</td>\n",
       "      <td>1000</td>\n",
       "      <td>55</td>\n",
       "      <td>0</td>\n",
       "      <td>0</td>\n",
       "      <td>0</td>\n",
       "      <td>0</td>\n",
       "      <td>0</td>\n",
       "      <td>0</td>\n",
       "      <td>0</td>\n",
       "      <td>0</td>\n",
       "    </tr>\n",
       "    <tr>\n",
       "      <th>3</th>\n",
       "      <td>620000</td>\n",
       "      <td>2</td>\n",
       "      <td>1</td>\n",
       "      <td>2</td>\n",
       "      <td>38</td>\n",
       "      <td>12136</td>\n",
       "      <td>7938</td>\n",
       "      <td>620</td>\n",
       "      <td>16022</td>\n",
       "      <td>2581</td>\n",
       "      <td>...</td>\n",
       "      <td>2856</td>\n",
       "      <td>4197</td>\n",
       "      <td>920</td>\n",
       "      <td>0</td>\n",
       "      <td>0</td>\n",
       "      <td>0</td>\n",
       "      <td>0</td>\n",
       "      <td>0</td>\n",
       "      <td>0</td>\n",
       "      <td>0</td>\n",
       "    </tr>\n",
       "    <tr>\n",
       "      <th>4</th>\n",
       "      <td>120000</td>\n",
       "      <td>2</td>\n",
       "      <td>2</td>\n",
       "      <td>1</td>\n",
       "      <td>28</td>\n",
       "      <td>60188</td>\n",
       "      <td>58467</td>\n",
       "      <td>59760</td>\n",
       "      <td>60990</td>\n",
       "      <td>61960</td>\n",
       "      <td>...</td>\n",
       "      <td>3000</td>\n",
       "      <td>5000</td>\n",
       "      <td>0</td>\n",
       "      <td>1</td>\n",
       "      <td>1</td>\n",
       "      <td>2</td>\n",
       "      <td>0</td>\n",
       "      <td>0</td>\n",
       "      <td>0</td>\n",
       "      <td>0</td>\n",
       "    </tr>\n",
       "  </tbody>\n",
       "</table>\n",
       "<p>5 rows × 24 columns</p>\n",
       "</div>"
      ],
      "text/plain": [
       "   limit_balance  sex  education_level  marital_status  age  bill_amt_1  \\\n",
       "0          20000    1                2               2   27           0   \n",
       "1          80000    1                1               2   29       31637   \n",
       "2          30000    2                3               2   28       25354   \n",
       "3         620000    2                1               2   38       12136   \n",
       "4         120000    2                2               1   28       60188   \n",
       "\n",
       "   bill_amt_2  bill_amt_3  bill_amt_4  bill_amt_5  ...  pay_amt_4  pay_amt_5  \\\n",
       "0           0           0           0           0  ...          0          0   \n",
       "1       27137       25986       23496       23601  ...       2000       2000   \n",
       "2       24826       25412       21658         980  ...       1000         55   \n",
       "3        7938         620       16022        2581  ...       2856       4197   \n",
       "4       58467       59760       60990       61960  ...       3000       5000   \n",
       "\n",
       "   pay_amt_6  default_payment  pay_1  pay_2  pay_3  pay_4  pay_5  pay_6  \n",
       "0          0                1      1      0      0      0      0      0  \n",
       "1       2000                0      0      0      0      0      0      0  \n",
       "2          0                0      0      0      0      0      0      0  \n",
       "3        920                0      0      0      0      0      0      0  \n",
       "4          0                1      1      2      0      0      0      0  \n",
       "\n",
       "[5 rows x 24 columns]"
      ]
     },
     "execution_count": 322,
     "metadata": {},
     "output_type": "execute_result"
    }
   ],
   "source": [
    "df_inf"
   ]
  },
  {
   "cell_type": "code",
   "execution_count": null,
   "metadata": {},
   "outputs": [
    {
     "data": {
      "text/html": [
       "<div>\n",
       "<style scoped>\n",
       "    .dataframe tbody tr th:only-of-type {\n",
       "        vertical-align: middle;\n",
       "    }\n",
       "\n",
       "    .dataframe tbody tr th {\n",
       "        vertical-align: top;\n",
       "    }\n",
       "\n",
       "    .dataframe thead th {\n",
       "        text-align: right;\n",
       "    }\n",
       "</style>\n",
       "<table border=\"1\" class=\"dataframe\">\n",
       "  <thead>\n",
       "    <tr style=\"text-align: right;\">\n",
       "      <th></th>\n",
       "      <th>limit_balance</th>\n",
       "      <th>pay_1</th>\n",
       "      <th>pay_2</th>\n",
       "      <th>pay_3</th>\n",
       "      <th>pay_4</th>\n",
       "      <th>pay_5</th>\n",
       "      <th>pay_6</th>\n",
       "      <th>default_payment</th>\n",
       "    </tr>\n",
       "  </thead>\n",
       "  <tbody>\n",
       "    <tr>\n",
       "      <th>0</th>\n",
       "      <td>20000</td>\n",
       "      <td>1</td>\n",
       "      <td>0</td>\n",
       "      <td>0</td>\n",
       "      <td>0</td>\n",
       "      <td>0</td>\n",
       "      <td>0</td>\n",
       "      <td>1</td>\n",
       "    </tr>\n",
       "    <tr>\n",
       "      <th>1</th>\n",
       "      <td>80000</td>\n",
       "      <td>0</td>\n",
       "      <td>0</td>\n",
       "      <td>0</td>\n",
       "      <td>0</td>\n",
       "      <td>0</td>\n",
       "      <td>0</td>\n",
       "      <td>0</td>\n",
       "    </tr>\n",
       "    <tr>\n",
       "      <th>2</th>\n",
       "      <td>30000</td>\n",
       "      <td>0</td>\n",
       "      <td>0</td>\n",
       "      <td>0</td>\n",
       "      <td>0</td>\n",
       "      <td>0</td>\n",
       "      <td>0</td>\n",
       "      <td>0</td>\n",
       "    </tr>\n",
       "    <tr>\n",
       "      <th>3</th>\n",
       "      <td>620000</td>\n",
       "      <td>0</td>\n",
       "      <td>0</td>\n",
       "      <td>0</td>\n",
       "      <td>0</td>\n",
       "      <td>0</td>\n",
       "      <td>0</td>\n",
       "      <td>0</td>\n",
       "    </tr>\n",
       "    <tr>\n",
       "      <th>4</th>\n",
       "      <td>120000</td>\n",
       "      <td>1</td>\n",
       "      <td>2</td>\n",
       "      <td>0</td>\n",
       "      <td>0</td>\n",
       "      <td>0</td>\n",
       "      <td>0</td>\n",
       "      <td>1</td>\n",
       "    </tr>\n",
       "  </tbody>\n",
       "</table>\n",
       "</div>"
      ],
      "text/plain": [
       "   limit_balance  pay_1  pay_2  pay_3  pay_4  pay_5  pay_6  default_payment\n",
       "0          20000      1      0      0      0      0      0                1\n",
       "1          80000      0      0      0      0      0      0                0\n",
       "2          30000      0      0      0      0      0      0                0\n",
       "3         620000      0      0      0      0      0      0                0\n",
       "4         120000      1      2      0      0      0      0                1"
      ]
     },
     "execution_count": 323,
     "metadata": {},
     "output_type": "execute_result"
    }
   ],
   "source": [
    "df_inf = df_inf[df_final]\n",
    "df_inf"
   ]
  },
  {
   "cell_type": "markdown",
   "metadata": {},
   "source": [
    "#### Scaling"
   ]
  },
  {
   "cell_type": "code",
   "execution_count": null,
   "metadata": {},
   "outputs": [
    {
     "data": {
      "text/html": [
       "<div>\n",
       "<style scoped>\n",
       "    .dataframe tbody tr th:only-of-type {\n",
       "        vertical-align: middle;\n",
       "    }\n",
       "\n",
       "    .dataframe tbody tr th {\n",
       "        vertical-align: top;\n",
       "    }\n",
       "\n",
       "    .dataframe thead th {\n",
       "        text-align: right;\n",
       "    }\n",
       "</style>\n",
       "<table border=\"1\" class=\"dataframe\">\n",
       "  <thead>\n",
       "    <tr style=\"text-align: right;\">\n",
       "      <th></th>\n",
       "      <th>limit_balance</th>\n",
       "      <th>pay_1</th>\n",
       "      <th>pay_2</th>\n",
       "      <th>pay_3</th>\n",
       "      <th>pay_4</th>\n",
       "      <th>pay_5</th>\n",
       "      <th>pay_6</th>\n",
       "      <th>default_payment</th>\n",
       "    </tr>\n",
       "  </thead>\n",
       "  <tbody>\n",
       "    <tr>\n",
       "      <th>0</th>\n",
       "      <td>0.020408</td>\n",
       "      <td>1</td>\n",
       "      <td>0</td>\n",
       "      <td>0</td>\n",
       "      <td>0</td>\n",
       "      <td>0</td>\n",
       "      <td>0</td>\n",
       "      <td>1</td>\n",
       "    </tr>\n",
       "    <tr>\n",
       "      <th>1</th>\n",
       "      <td>0.142857</td>\n",
       "      <td>0</td>\n",
       "      <td>0</td>\n",
       "      <td>0</td>\n",
       "      <td>0</td>\n",
       "      <td>0</td>\n",
       "      <td>0</td>\n",
       "      <td>0</td>\n",
       "    </tr>\n",
       "    <tr>\n",
       "      <th>2</th>\n",
       "      <td>0.040816</td>\n",
       "      <td>0</td>\n",
       "      <td>0</td>\n",
       "      <td>0</td>\n",
       "      <td>0</td>\n",
       "      <td>0</td>\n",
       "      <td>0</td>\n",
       "      <td>0</td>\n",
       "    </tr>\n",
       "    <tr>\n",
       "      <th>3</th>\n",
       "      <td>1.244898</td>\n",
       "      <td>0</td>\n",
       "      <td>0</td>\n",
       "      <td>0</td>\n",
       "      <td>0</td>\n",
       "      <td>0</td>\n",
       "      <td>0</td>\n",
       "      <td>0</td>\n",
       "    </tr>\n",
       "    <tr>\n",
       "      <th>4</th>\n",
       "      <td>0.224490</td>\n",
       "      <td>1</td>\n",
       "      <td>2</td>\n",
       "      <td>0</td>\n",
       "      <td>0</td>\n",
       "      <td>0</td>\n",
       "      <td>0</td>\n",
       "      <td>1</td>\n",
       "    </tr>\n",
       "  </tbody>\n",
       "</table>\n",
       "</div>"
      ],
      "text/plain": [
       "   limit_balance  pay_1  pay_2  pay_3  pay_4  pay_5  pay_6  default_payment\n",
       "0       0.020408      1      0      0      0      0      0                1\n",
       "1       0.142857      0      0      0      0      0      0                0\n",
       "2       0.040816      0      0      0      0      0      0                0\n",
       "3       1.244898      0      0      0      0      0      0                0\n",
       "4       0.224490      1      2      0      0      0      0                1"
      ]
     },
     "execution_count": 324,
     "metadata": {},
     "output_type": "execute_result"
    }
   ],
   "source": [
    "df_inf[num_col_final] = scaler.transform(df_inf[num_col_final])\n",
    "df_inf"
   ]
  },
  {
   "cell_type": "code",
   "execution_count": null,
   "metadata": {},
   "outputs": [],
   "source": [
    "x_inf = df_inf.drop('default_payment', axis=1).copy()"
   ]
  },
  {
   "cell_type": "code",
   "execution_count": null,
   "metadata": {},
   "outputs": [
    {
     "data": {
      "text/plain": [
       "array([0, 0, 0, 0, 0], dtype=int64)"
      ]
     },
     "execution_count": 326,
     "metadata": {},
     "output_type": "execute_result"
    }
   ],
   "source": [
    "y_pred_inf = ab_model_final.predict(x_inf)\n",
    "y_pred_inf"
   ]
  },
  {
   "cell_type": "code",
   "execution_count": null,
   "metadata": {},
   "outputs": [
    {
     "data": {
      "text/plain": [
       "(5, 8)"
      ]
     },
     "execution_count": 327,
     "metadata": {},
     "output_type": "execute_result"
    }
   ],
   "source": [
    "df_inf.shape"
   ]
  },
  {
   "cell_type": "markdown",
   "metadata": {},
   "source": [
    "## x. Conclusion"
   ]
  },
  {
   "cell_type": "markdown",
   "metadata": {},
   "source": [
    "Based on analysis and observations that we just done, it can be conclude that:\n",
    "- There are 24 columns that is used. which are 10 categorical columns, and 14 numerical columns.\n",
    "- Some of the data doesn't match the column descriptions, so we had to change some value so the data can be analyzed clearly. The action that I took was renaming two columns, such as changing pay_0 columns to 'pay_1', because from the raw dataset, after pay_0 column, the next one is pay_2. So to make it easier, I changed it to pay_1. And I also changed the `default_payment_next_month` column to `default_payment` so it won't be too long and easier to analyze.\n",
    "- I also changed and add some values together to shorten the cardinality of the columns, such as education_level, marital_status, and repayment status (pay_1 until pay_6) columns.\n",
    "- The data target is imbalanced, where class 0 has 2329 total value, and class 1 has 635 total value.\n",
    "- Credit card owner is dominated by female than male, with the total number of female is 1789, while the total number of male is 1161.\n",
    "- Based on the education_level, university category has the most number than other category.\n",
    "- Some categorical columns don't have correlation to the target, such as `sex`, `education_level` and `marital_status`, so that those features is not going to be used for the next analysis.\n",
    "- There are no multicollinearity between the columns on the repayment status which are pay_1, pay_2, pay_3, pay_4, pay_5, pay_6.\n",
    "- On numerical features, almost all the feature don't have correlation to the target except limit_balance. So, the only numerical feature that is going to be used is `limit_balance` column.\n",
    "- The total final features is 7 columns. Which are `limit_balance`, `pay_1`, `pay_2`, `pay_3`, `pay_4`, `pay_5`, `pay_6`.\n",
    "- There are 7 algorithms that is used in this case, which are `Logistic Regression`, `SVC`, `Decision Tree`, `Random Forest`, `K-Nearest Neighbor`, `Gaussian Naive Bayes` and `AdaBoost Classifier`.\n",
    "- After done Cross Validation from each algorithms and done doing hyperparameter tuning, we got AdaBoost Classifier as the best estimator.\n",
    "- From the classification report, we got the Recall value for train set is 0.39, and from the test set is 0.40. The increase is not significant, it might be caused by the imbalanced target data.\n",
    "\n"
   ]
  },
  {
   "cell_type": "markdown",
   "metadata": {},
   "source": [
    "### CONCEPTUAL PROBLEMS"
   ]
  },
  {
   "cell_type": "markdown",
   "metadata": {},
   "source": [
    "`1. What is the function of parameter criterion in Decision Tree? Explain one of criterion that you understand!`\n",
    "> Criterion determines how the impurity of a split will be measured. The default value is \"gini\", but you can also use \"entropy\" as a metric for impurity.\n",
    "\n",
    "I will explain about entropy as it's one of criterion.\n",
    "\n",
    ">Entropy is a measure of the disorder of a system. In the case of data science, it's the measure of impurity in a split. Splitting with less entropy ensures optimum results. Splitting with less entropy ensures optimum results. Entropy ranges from 0 to 1. If entropy is 0, consider it as a pure sub-tree and entropy becomes 1 if all labels are equally distributed in a leaf\n",
    "\n",
    "---\n",
    "\n",
    "`2. What is the function of pruning in Tree model?`\n",
    ">Decision Trees are prone to over-fitting. A decision tree will always overfit the training data if we allow it to grow to its max depth, so `Pruning` comes in handy. Pruning is a technique that is used to reduce overfitting. Pruning also simplifies a decision tree by removing the weakest rules. `Pruning` is categorized into two segments :\n",
    "\n",
    "#### Pre - Pruning\n",
    "- Pre - Pruning stops the tree before it has completed classifying the training set \n",
    "\n",
    "#### Post - Pruning\n",
    "- Post - Pruning allows the tree to classify the training set perfectly and then prunes the tree.\n",
    "\n",
    "Pruning begins with an unpruned tree, takes a sequence of pruned trees and lastly finding the best one through cross validation. There are somethings to take account when using pruning on decision tree, some of them are :\n",
    "\n",
    "- The subtree is optimal, which means that the subtree that has the highest cross validated accuracy or other parameters\n",
    "\n",
    "- The search for the optimal subtree should be computationally tractable.\n",
    "\n",
    "---\n",
    "\n",
    "`3. How to determine an optimal K value in KNN?`\n",
    ">Using K-Nearest Neighbour, we predict the category of the test point from the available class labels by finding the distance between the test point and trained k nearest feature values.\n",
    "\n",
    "#### How to select the optimal K value?\n",
    "- There are no pre-defined statistical methods to find the most favorable value of K.\n",
    "- Initialize a random K value and start computing.\n",
    "- Choosing a small value of K leads to unstable decision boundaries.\n",
    "- The substantial K value is better for classification as it leads to smoothening the decision boundaries.\n",
    "- Derive a plot between error rate and K denoting values in a defined range. Then choose the K value as having a minimum error rate.\n",
    "\n",
    "---\n",
    "\n",
    "`4. Explain what do you know about Cross Validation!`\n",
    ">Cross-validation is a procedure to evaluate the performance of learning models. Datasets are typically split in a random or stratified strategy. The splitting technique can be varied and chosen based on the data’s size and the ultimate objective. Also, the computational cost plays a role in implementing the CV technique. Using cross-validation, there are high chances that we can detect over-fitting with ease. To do CV, we have to make a fixed number of folds (partition) of the data and then doing an analysis on each fold. Then averaging the overall error estimate.\n",
    "\n",
    "---\n",
    "\n",
    "`5. Explain what do you know about Accuracy, Precision, Recall, F1 Score!`\n",
    ">Accuracy is a number of correctly predicted data points out of all the data.\n",
    "\n",
    "#### Accuracy = (TP + TN) /(TP + TN + FP + FN)\n",
    "\n",
    ">Precision is the ability of a classifier not to label an instance positive that is actually negative. For each class, it is defined as the ratio of true positives to the sum of a true positive and false positive.\n",
    "\n",
    "#### Precision = TP/(TP + FP)\n",
    "\n",
    ">Recall is the ability of a classifier to find all positive instances. For each class it is defined as the ratio of true positives to the sum of true positives and false negatives.\n",
    "\n",
    "#### Recall = TP/(TP+FN)\n",
    "\n",
    ">The F1 score is a weighted harmonic mean of precision and recall such that the best score is 1.0 and the worst is 0.0. F1 scores are lower than accuracy measures as they embed precision and recall into their computation.\n",
    "\n",
    "#### F1 Score = 2*(Recall * Precision) / (Recall + Precision)"
   ]
  },
  {
   "cell_type": "markdown",
   "metadata": {},
   "source": []
  }
 ],
 "metadata": {
  "kernelspec": {
   "display_name": "Python 3.9.12 ('base')",
   "language": "python",
   "name": "python3"
  },
  "language_info": {
   "codemirror_mode": {
    "name": "ipython",
    "version": 3
   },
   "file_extension": ".py",
   "mimetype": "text/x-python",
   "name": "python",
   "nbconvert_exporter": "python",
   "pygments_lexer": "ipython3",
   "version": "3.9.12"
  },
  "orig_nbformat": 4,
  "vscode": {
   "interpreter": {
    "hash": "02118d29446500a657f5b3855eda0ac677d9a316b2936ab05cc979eff8cd544a"
   }
  }
 },
 "nbformat": 4,
 "nbformat_minor": 2
}
